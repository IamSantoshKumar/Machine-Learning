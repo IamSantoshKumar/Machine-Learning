{
  "nbformat": 4,
  "nbformat_minor": 0,
  "metadata": {
    "colab": {
      "name": "DataLitFinalProject.ipynb",
      "version": "0.3.2",
      "provenance": [],
      "include_colab_link": true
    },
    "kernelspec": {
      "name": "python3",
      "display_name": "Python 3"
    },
    "accelerator": "TPU"
  },
  "cells": [
    {
      "cell_type": "markdown",
      "metadata": {
        "id": "view-in-github",
        "colab_type": "text"
      },
      "source": [
        "<a href=\"https://colab.research.google.com/github/santhosh2551991/Machine-Learning/blob/master/DataLitFinalProject.ipynb\" target=\"_parent\"><img src=\"https://colab.research.google.com/assets/colab-badge.svg\" alt=\"Open In Colab\"/></a>"
      ]
    },
    {
      "metadata": {
        "id": "wKil3u0ONOjx",
        "colab_type": "code",
        "outputId": "fdcbada7-ca35-4347-cf1a-a940447077d9",
        "colab": {
          "base_uri": "https://localhost:8080/",
          "height": 34
        }
      },
      "cell_type": "code",
      "source": [
        "import pandas as pd\n",
        "import numpy as np\n",
        "import pickle\n",
        "import matplotlib.pyplot as plt\n",
        "from scipy import stats\n",
        "import tensorflow as tf\n",
        "import seaborn as sns\n",
        "from pylab import rcParams\n",
        "from sklearn.model_selection import train_test_split\n",
        "from keras.models import Model, load_model\n",
        "from keras.layers import Input, Dense\n",
        "from keras.callbacks import ModelCheckpoint, TensorBoard\n",
        "from keras import regularizers\n",
        "%matplotlib inline\n",
        "sns.set(style='whitegrid', palette='muted', font_scale=1.5)\n",
        "rcParams['figure.figsize'] = 14, 8\n",
        "RANDOM_SEED = 42\n",
        "LABELS = [\"Normal\", \"Fraud\"]"
      ],
      "execution_count": 8,
      "outputs": [
        {
          "output_type": "stream",
          "text": [
            "Using TensorFlow backend.\n"
          ],
          "name": "stderr"
        }
      ]
    },
    {
      "metadata": {
        "id": "QdvYndP5c5da",
        "colab_type": "text"
      },
      "cell_type": "markdown",
      "source": [
        "I have used autoencoder to detect the fraudulent transaction in credit card, we are using undercomplete autoencoder,it also used in image recognization and classification problems"
      ]
    },
    {
      "metadata": {
        "id": "lkKcsb9rNWay",
        "colab_type": "code",
        "outputId": "a9f3582c-7c32-4932-a256-ea92ed9a7b47",
        "colab": {
          "base_uri": "https://localhost:8080/",
          "height": 34
        }
      },
      "cell_type": "code",
      "source": [
        "import pandas as pd\n",
        "df=pd.read_csv('/content/drive/My Drive/creditcard.csv')\n",
        "df.shape"
      ],
      "execution_count": 3,
      "outputs": [
        {
          "output_type": "execute_result",
          "data": {
            "text/plain": [
              "(284807, 31)"
            ]
          },
          "metadata": {
            "tags": []
          },
          "execution_count": 3
        }
      ]
    },
    {
      "metadata": {
        "id": "6Oa1ypWbo57i",
        "colab_type": "text"
      },
      "cell_type": "markdown",
      "source": [
        "link to dataset https://www.kaggle.com/mlg-ulb/creditcardfraud"
      ]
    },
    {
      "metadata": {
        "id": "wOHNNDO6iLJy",
        "colab_type": "text"
      },
      "cell_type": "markdown",
      "source": [
        "Reading the data from google drive and load it into colab and also we can see shape of it "
      ]
    },
    {
      "metadata": {
        "id": "oT6tjweOfDQx",
        "colab_type": "code",
        "outputId": "c8fb9833-068c-4642-90e5-b56a7ed91138",
        "colab": {
          "base_uri": "https://localhost:8080/",
          "height": 253
        }
      },
      "cell_type": "code",
      "source": [
        "df.head()"
      ],
      "execution_count": 4,
      "outputs": [
        {
          "output_type": "execute_result",
          "data": {
            "text/html": [
              "<div>\n",
              "<style scoped>\n",
              "    .dataframe tbody tr th:only-of-type {\n",
              "        vertical-align: middle;\n",
              "    }\n",
              "\n",
              "    .dataframe tbody tr th {\n",
              "        vertical-align: top;\n",
              "    }\n",
              "\n",
              "    .dataframe thead th {\n",
              "        text-align: right;\n",
              "    }\n",
              "</style>\n",
              "<table border=\"1\" class=\"dataframe\">\n",
              "  <thead>\n",
              "    <tr style=\"text-align: right;\">\n",
              "      <th></th>\n",
              "      <th>Time</th>\n",
              "      <th>V1</th>\n",
              "      <th>V2</th>\n",
              "      <th>V3</th>\n",
              "      <th>V4</th>\n",
              "      <th>V5</th>\n",
              "      <th>V6</th>\n",
              "      <th>V7</th>\n",
              "      <th>V8</th>\n",
              "      <th>V9</th>\n",
              "      <th>...</th>\n",
              "      <th>V21</th>\n",
              "      <th>V22</th>\n",
              "      <th>V23</th>\n",
              "      <th>V24</th>\n",
              "      <th>V25</th>\n",
              "      <th>V26</th>\n",
              "      <th>V27</th>\n",
              "      <th>V28</th>\n",
              "      <th>Amount</th>\n",
              "      <th>Class</th>\n",
              "    </tr>\n",
              "  </thead>\n",
              "  <tbody>\n",
              "    <tr>\n",
              "      <th>0</th>\n",
              "      <td>0.0</td>\n",
              "      <td>-1.359807</td>\n",
              "      <td>-0.072781</td>\n",
              "      <td>2.536347</td>\n",
              "      <td>1.378155</td>\n",
              "      <td>-0.338321</td>\n",
              "      <td>0.462388</td>\n",
              "      <td>0.239599</td>\n",
              "      <td>0.098698</td>\n",
              "      <td>0.363787</td>\n",
              "      <td>...</td>\n",
              "      <td>-0.018307</td>\n",
              "      <td>0.277838</td>\n",
              "      <td>-0.110474</td>\n",
              "      <td>0.066928</td>\n",
              "      <td>0.128539</td>\n",
              "      <td>-0.189115</td>\n",
              "      <td>0.133558</td>\n",
              "      <td>-0.021053</td>\n",
              "      <td>149.62</td>\n",
              "      <td>0</td>\n",
              "    </tr>\n",
              "    <tr>\n",
              "      <th>1</th>\n",
              "      <td>0.0</td>\n",
              "      <td>1.191857</td>\n",
              "      <td>0.266151</td>\n",
              "      <td>0.166480</td>\n",
              "      <td>0.448154</td>\n",
              "      <td>0.060018</td>\n",
              "      <td>-0.082361</td>\n",
              "      <td>-0.078803</td>\n",
              "      <td>0.085102</td>\n",
              "      <td>-0.255425</td>\n",
              "      <td>...</td>\n",
              "      <td>-0.225775</td>\n",
              "      <td>-0.638672</td>\n",
              "      <td>0.101288</td>\n",
              "      <td>-0.339846</td>\n",
              "      <td>0.167170</td>\n",
              "      <td>0.125895</td>\n",
              "      <td>-0.008983</td>\n",
              "      <td>0.014724</td>\n",
              "      <td>2.69</td>\n",
              "      <td>0</td>\n",
              "    </tr>\n",
              "    <tr>\n",
              "      <th>2</th>\n",
              "      <td>1.0</td>\n",
              "      <td>-1.358354</td>\n",
              "      <td>-1.340163</td>\n",
              "      <td>1.773209</td>\n",
              "      <td>0.379780</td>\n",
              "      <td>-0.503198</td>\n",
              "      <td>1.800499</td>\n",
              "      <td>0.791461</td>\n",
              "      <td>0.247676</td>\n",
              "      <td>-1.514654</td>\n",
              "      <td>...</td>\n",
              "      <td>0.247998</td>\n",
              "      <td>0.771679</td>\n",
              "      <td>0.909412</td>\n",
              "      <td>-0.689281</td>\n",
              "      <td>-0.327642</td>\n",
              "      <td>-0.139097</td>\n",
              "      <td>-0.055353</td>\n",
              "      <td>-0.059752</td>\n",
              "      <td>378.66</td>\n",
              "      <td>0</td>\n",
              "    </tr>\n",
              "    <tr>\n",
              "      <th>3</th>\n",
              "      <td>1.0</td>\n",
              "      <td>-0.966272</td>\n",
              "      <td>-0.185226</td>\n",
              "      <td>1.792993</td>\n",
              "      <td>-0.863291</td>\n",
              "      <td>-0.010309</td>\n",
              "      <td>1.247203</td>\n",
              "      <td>0.237609</td>\n",
              "      <td>0.377436</td>\n",
              "      <td>-1.387024</td>\n",
              "      <td>...</td>\n",
              "      <td>-0.108300</td>\n",
              "      <td>0.005274</td>\n",
              "      <td>-0.190321</td>\n",
              "      <td>-1.175575</td>\n",
              "      <td>0.647376</td>\n",
              "      <td>-0.221929</td>\n",
              "      <td>0.062723</td>\n",
              "      <td>0.061458</td>\n",
              "      <td>123.50</td>\n",
              "      <td>0</td>\n",
              "    </tr>\n",
              "    <tr>\n",
              "      <th>4</th>\n",
              "      <td>2.0</td>\n",
              "      <td>-1.158233</td>\n",
              "      <td>0.877737</td>\n",
              "      <td>1.548718</td>\n",
              "      <td>0.403034</td>\n",
              "      <td>-0.407193</td>\n",
              "      <td>0.095921</td>\n",
              "      <td>0.592941</td>\n",
              "      <td>-0.270533</td>\n",
              "      <td>0.817739</td>\n",
              "      <td>...</td>\n",
              "      <td>-0.009431</td>\n",
              "      <td>0.798278</td>\n",
              "      <td>-0.137458</td>\n",
              "      <td>0.141267</td>\n",
              "      <td>-0.206010</td>\n",
              "      <td>0.502292</td>\n",
              "      <td>0.219422</td>\n",
              "      <td>0.215153</td>\n",
              "      <td>69.99</td>\n",
              "      <td>0</td>\n",
              "    </tr>\n",
              "  </tbody>\n",
              "</table>\n",
              "<p>5 rows × 31 columns</p>\n",
              "</div>"
            ],
            "text/plain": [
              "   Time        V1        V2        V3        V4        V5        V6        V7  \\\n",
              "0   0.0 -1.359807 -0.072781  2.536347  1.378155 -0.338321  0.462388  0.239599   \n",
              "1   0.0  1.191857  0.266151  0.166480  0.448154  0.060018 -0.082361 -0.078803   \n",
              "2   1.0 -1.358354 -1.340163  1.773209  0.379780 -0.503198  1.800499  0.791461   \n",
              "3   1.0 -0.966272 -0.185226  1.792993 -0.863291 -0.010309  1.247203  0.237609   \n",
              "4   2.0 -1.158233  0.877737  1.548718  0.403034 -0.407193  0.095921  0.592941   \n",
              "\n",
              "         V8        V9  ...         V21       V22       V23       V24  \\\n",
              "0  0.098698  0.363787  ...   -0.018307  0.277838 -0.110474  0.066928   \n",
              "1  0.085102 -0.255425  ...   -0.225775 -0.638672  0.101288 -0.339846   \n",
              "2  0.247676 -1.514654  ...    0.247998  0.771679  0.909412 -0.689281   \n",
              "3  0.377436 -1.387024  ...   -0.108300  0.005274 -0.190321 -1.175575   \n",
              "4 -0.270533  0.817739  ...   -0.009431  0.798278 -0.137458  0.141267   \n",
              "\n",
              "        V25       V26       V27       V28  Amount  Class  \n",
              "0  0.128539 -0.189115  0.133558 -0.021053  149.62      0  \n",
              "1  0.167170  0.125895 -0.008983  0.014724    2.69      0  \n",
              "2 -0.327642 -0.139097 -0.055353 -0.059752  378.66      0  \n",
              "3  0.647376 -0.221929  0.062723  0.061458  123.50      0  \n",
              "4 -0.206010  0.502292  0.219422  0.215153   69.99      0  \n",
              "\n",
              "[5 rows x 31 columns]"
            ]
          },
          "metadata": {
            "tags": []
          },
          "execution_count": 4
        }
      ]
    },
    {
      "metadata": {
        "id": "f77pKX_UfIj2",
        "colab_type": "code",
        "outputId": "a43c65f1-6097-474e-af57-39c820304580",
        "colab": {
          "base_uri": "https://localhost:8080/",
          "height": 1059
        }
      },
      "cell_type": "code",
      "source": [
        "df.corr()"
      ],
      "execution_count": 5,
      "outputs": [
        {
          "output_type": "execute_result",
          "data": {
            "text/html": [
              "<div>\n",
              "<style scoped>\n",
              "    .dataframe tbody tr th:only-of-type {\n",
              "        vertical-align: middle;\n",
              "    }\n",
              "\n",
              "    .dataframe tbody tr th {\n",
              "        vertical-align: top;\n",
              "    }\n",
              "\n",
              "    .dataframe thead th {\n",
              "        text-align: right;\n",
              "    }\n",
              "</style>\n",
              "<table border=\"1\" class=\"dataframe\">\n",
              "  <thead>\n",
              "    <tr style=\"text-align: right;\">\n",
              "      <th></th>\n",
              "      <th>Time</th>\n",
              "      <th>V1</th>\n",
              "      <th>V2</th>\n",
              "      <th>V3</th>\n",
              "      <th>V4</th>\n",
              "      <th>V5</th>\n",
              "      <th>V6</th>\n",
              "      <th>V7</th>\n",
              "      <th>V8</th>\n",
              "      <th>V9</th>\n",
              "      <th>...</th>\n",
              "      <th>V21</th>\n",
              "      <th>V22</th>\n",
              "      <th>V23</th>\n",
              "      <th>V24</th>\n",
              "      <th>V25</th>\n",
              "      <th>V26</th>\n",
              "      <th>V27</th>\n",
              "      <th>V28</th>\n",
              "      <th>Amount</th>\n",
              "      <th>Class</th>\n",
              "    </tr>\n",
              "  </thead>\n",
              "  <tbody>\n",
              "    <tr>\n",
              "      <th>Time</th>\n",
              "      <td>1.000000</td>\n",
              "      <td>1.173963e-01</td>\n",
              "      <td>-1.059333e-02</td>\n",
              "      <td>-4.196182e-01</td>\n",
              "      <td>-1.052602e-01</td>\n",
              "      <td>1.730721e-01</td>\n",
              "      <td>-6.301647e-02</td>\n",
              "      <td>8.471437e-02</td>\n",
              "      <td>-3.694943e-02</td>\n",
              "      <td>-8.660434e-03</td>\n",
              "      <td>...</td>\n",
              "      <td>4.473573e-02</td>\n",
              "      <td>1.440591e-01</td>\n",
              "      <td>5.114236e-02</td>\n",
              "      <td>-1.618187e-02</td>\n",
              "      <td>-2.330828e-01</td>\n",
              "      <td>-4.140710e-02</td>\n",
              "      <td>-5.134591e-03</td>\n",
              "      <td>-9.412688e-03</td>\n",
              "      <td>-0.010596</td>\n",
              "      <td>-0.012323</td>\n",
              "    </tr>\n",
              "    <tr>\n",
              "      <th>V1</th>\n",
              "      <td>0.117396</td>\n",
              "      <td>1.000000e+00</td>\n",
              "      <td>4.697350e-17</td>\n",
              "      <td>-1.424390e-15</td>\n",
              "      <td>1.755316e-17</td>\n",
              "      <td>6.391162e-17</td>\n",
              "      <td>2.398071e-16</td>\n",
              "      <td>1.991550e-15</td>\n",
              "      <td>-9.490675e-17</td>\n",
              "      <td>2.169581e-16</td>\n",
              "      <td>...</td>\n",
              "      <td>-1.755072e-16</td>\n",
              "      <td>7.477367e-17</td>\n",
              "      <td>9.808705e-16</td>\n",
              "      <td>7.354269e-17</td>\n",
              "      <td>-9.805358e-16</td>\n",
              "      <td>-8.621897e-17</td>\n",
              "      <td>3.208233e-17</td>\n",
              "      <td>9.820892e-16</td>\n",
              "      <td>-0.227709</td>\n",
              "      <td>-0.101347</td>\n",
              "    </tr>\n",
              "    <tr>\n",
              "      <th>V2</th>\n",
              "      <td>-0.010593</td>\n",
              "      <td>4.697350e-17</td>\n",
              "      <td>1.000000e+00</td>\n",
              "      <td>2.512175e-16</td>\n",
              "      <td>-1.126388e-16</td>\n",
              "      <td>-2.039868e-16</td>\n",
              "      <td>5.024680e-16</td>\n",
              "      <td>3.966486e-16</td>\n",
              "      <td>-4.413984e-17</td>\n",
              "      <td>-5.728718e-17</td>\n",
              "      <td>...</td>\n",
              "      <td>8.444409e-17</td>\n",
              "      <td>2.500830e-16</td>\n",
              "      <td>1.059562e-16</td>\n",
              "      <td>-8.142354e-18</td>\n",
              "      <td>-4.261894e-17</td>\n",
              "      <td>2.601622e-16</td>\n",
              "      <td>-4.478472e-16</td>\n",
              "      <td>-3.676415e-16</td>\n",
              "      <td>-0.531409</td>\n",
              "      <td>0.091289</td>\n",
              "    </tr>\n",
              "    <tr>\n",
              "      <th>V3</th>\n",
              "      <td>-0.419618</td>\n",
              "      <td>-1.424390e-15</td>\n",
              "      <td>2.512175e-16</td>\n",
              "      <td>1.000000e+00</td>\n",
              "      <td>-3.416910e-16</td>\n",
              "      <td>-1.436514e-15</td>\n",
              "      <td>1.431581e-15</td>\n",
              "      <td>2.168574e-15</td>\n",
              "      <td>3.433113e-16</td>\n",
              "      <td>-4.233770e-16</td>\n",
              "      <td>...</td>\n",
              "      <td>-2.971969e-17</td>\n",
              "      <td>4.648259e-16</td>\n",
              "      <td>2.115206e-17</td>\n",
              "      <td>-9.351637e-17</td>\n",
              "      <td>4.771164e-16</td>\n",
              "      <td>6.521501e-16</td>\n",
              "      <td>6.239832e-16</td>\n",
              "      <td>7.726948e-16</td>\n",
              "      <td>-0.210880</td>\n",
              "      <td>-0.192961</td>\n",
              "    </tr>\n",
              "    <tr>\n",
              "      <th>V4</th>\n",
              "      <td>-0.105260</td>\n",
              "      <td>1.755316e-17</td>\n",
              "      <td>-1.126388e-16</td>\n",
              "      <td>-3.416910e-16</td>\n",
              "      <td>1.000000e+00</td>\n",
              "      <td>-1.940929e-15</td>\n",
              "      <td>-2.712659e-16</td>\n",
              "      <td>1.556330e-16</td>\n",
              "      <td>5.195643e-16</td>\n",
              "      <td>3.859585e-16</td>\n",
              "      <td>...</td>\n",
              "      <td>-9.976950e-17</td>\n",
              "      <td>2.099922e-16</td>\n",
              "      <td>6.002528e-17</td>\n",
              "      <td>2.229738e-16</td>\n",
              "      <td>5.394585e-16</td>\n",
              "      <td>-6.179751e-16</td>\n",
              "      <td>-6.403423e-17</td>\n",
              "      <td>-5.863664e-17</td>\n",
              "      <td>0.098732</td>\n",
              "      <td>0.133447</td>\n",
              "    </tr>\n",
              "    <tr>\n",
              "      <th>V5</th>\n",
              "      <td>0.173072</td>\n",
              "      <td>6.391162e-17</td>\n",
              "      <td>-2.039868e-16</td>\n",
              "      <td>-1.436514e-15</td>\n",
              "      <td>-1.940929e-15</td>\n",
              "      <td>1.000000e+00</td>\n",
              "      <td>7.926364e-16</td>\n",
              "      <td>-4.209851e-16</td>\n",
              "      <td>7.589187e-16</td>\n",
              "      <td>4.205206e-16</td>\n",
              "      <td>...</td>\n",
              "      <td>-1.368701e-16</td>\n",
              "      <td>5.060029e-16</td>\n",
              "      <td>1.637596e-16</td>\n",
              "      <td>-9.286095e-16</td>\n",
              "      <td>5.625102e-16</td>\n",
              "      <td>9.144690e-16</td>\n",
              "      <td>4.465960e-16</td>\n",
              "      <td>-3.299167e-16</td>\n",
              "      <td>-0.386356</td>\n",
              "      <td>-0.094974</td>\n",
              "    </tr>\n",
              "    <tr>\n",
              "      <th>V6</th>\n",
              "      <td>-0.063016</td>\n",
              "      <td>2.398071e-16</td>\n",
              "      <td>5.024680e-16</td>\n",
              "      <td>1.431581e-15</td>\n",
              "      <td>-2.712659e-16</td>\n",
              "      <td>7.926364e-16</td>\n",
              "      <td>1.000000e+00</td>\n",
              "      <td>1.429426e-16</td>\n",
              "      <td>-1.707421e-16</td>\n",
              "      <td>1.114447e-16</td>\n",
              "      <td>...</td>\n",
              "      <td>-1.575903e-16</td>\n",
              "      <td>-3.362902e-16</td>\n",
              "      <td>-7.232186e-17</td>\n",
              "      <td>-1.261867e-15</td>\n",
              "      <td>1.081933e-15</td>\n",
              "      <td>-2.378414e-16</td>\n",
              "      <td>-2.623818e-16</td>\n",
              "      <td>4.813155e-16</td>\n",
              "      <td>0.215981</td>\n",
              "      <td>-0.043643</td>\n",
              "    </tr>\n",
              "    <tr>\n",
              "      <th>V7</th>\n",
              "      <td>0.084714</td>\n",
              "      <td>1.991550e-15</td>\n",
              "      <td>3.966486e-16</td>\n",
              "      <td>2.168574e-15</td>\n",
              "      <td>1.556330e-16</td>\n",
              "      <td>-4.209851e-16</td>\n",
              "      <td>1.429426e-16</td>\n",
              "      <td>1.000000e+00</td>\n",
              "      <td>-8.691834e-17</td>\n",
              "      <td>7.933251e-16</td>\n",
              "      <td>...</td>\n",
              "      <td>1.938604e-16</td>\n",
              "      <td>-1.058131e-15</td>\n",
              "      <td>2.327911e-16</td>\n",
              "      <td>-2.589727e-17</td>\n",
              "      <td>1.174169e-15</td>\n",
              "      <td>-7.334507e-16</td>\n",
              "      <td>-5.886825e-16</td>\n",
              "      <td>-6.836764e-17</td>\n",
              "      <td>0.397311</td>\n",
              "      <td>-0.187257</td>\n",
              "    </tr>\n",
              "    <tr>\n",
              "      <th>V8</th>\n",
              "      <td>-0.036949</td>\n",
              "      <td>-9.490675e-17</td>\n",
              "      <td>-4.413984e-17</td>\n",
              "      <td>3.433113e-16</td>\n",
              "      <td>5.195643e-16</td>\n",
              "      <td>7.589187e-16</td>\n",
              "      <td>-1.707421e-16</td>\n",
              "      <td>-8.691834e-17</td>\n",
              "      <td>1.000000e+00</td>\n",
              "      <td>2.900829e-16</td>\n",
              "      <td>...</td>\n",
              "      <td>-2.412439e-16</td>\n",
              "      <td>5.475559e-16</td>\n",
              "      <td>3.897104e-16</td>\n",
              "      <td>-1.802967e-16</td>\n",
              "      <td>-1.390791e-16</td>\n",
              "      <td>-1.209975e-16</td>\n",
              "      <td>1.733633e-16</td>\n",
              "      <td>-4.484325e-16</td>\n",
              "      <td>-0.103079</td>\n",
              "      <td>0.019875</td>\n",
              "    </tr>\n",
              "    <tr>\n",
              "      <th>V9</th>\n",
              "      <td>-0.008660</td>\n",
              "      <td>2.169581e-16</td>\n",
              "      <td>-5.728718e-17</td>\n",
              "      <td>-4.233770e-16</td>\n",
              "      <td>3.859585e-16</td>\n",
              "      <td>4.205206e-16</td>\n",
              "      <td>1.114447e-16</td>\n",
              "      <td>7.933251e-16</td>\n",
              "      <td>2.900829e-16</td>\n",
              "      <td>1.000000e+00</td>\n",
              "      <td>...</td>\n",
              "      <td>4.578389e-17</td>\n",
              "      <td>2.871855e-17</td>\n",
              "      <td>5.929286e-16</td>\n",
              "      <td>-2.346385e-16</td>\n",
              "      <td>1.099645e-15</td>\n",
              "      <td>-1.388725e-15</td>\n",
              "      <td>-2.287414e-16</td>\n",
              "      <td>9.146779e-16</td>\n",
              "      <td>-0.044246</td>\n",
              "      <td>-0.097733</td>\n",
              "    </tr>\n",
              "    <tr>\n",
              "      <th>V10</th>\n",
              "      <td>0.030617</td>\n",
              "      <td>7.433820e-17</td>\n",
              "      <td>-4.782388e-16</td>\n",
              "      <td>6.289267e-16</td>\n",
              "      <td>6.055490e-16</td>\n",
              "      <td>-6.601716e-16</td>\n",
              "      <td>2.850776e-16</td>\n",
              "      <td>3.043333e-17</td>\n",
              "      <td>9.051847e-17</td>\n",
              "      <td>-2.771761e-16</td>\n",
              "      <td>...</td>\n",
              "      <td>8.089504e-16</td>\n",
              "      <td>-6.707598e-16</td>\n",
              "      <td>3.809732e-16</td>\n",
              "      <td>-4.032806e-17</td>\n",
              "      <td>-2.863813e-16</td>\n",
              "      <td>-2.554293e-16</td>\n",
              "      <td>-3.103239e-16</td>\n",
              "      <td>-1.515934e-16</td>\n",
              "      <td>-0.101502</td>\n",
              "      <td>-0.216883</td>\n",
              "    </tr>\n",
              "    <tr>\n",
              "      <th>V11</th>\n",
              "      <td>-0.247689</td>\n",
              "      <td>2.438580e-16</td>\n",
              "      <td>9.468995e-16</td>\n",
              "      <td>-5.501758e-17</td>\n",
              "      <td>-2.083600e-16</td>\n",
              "      <td>7.342759e-16</td>\n",
              "      <td>4.865799e-16</td>\n",
              "      <td>-1.084105e-15</td>\n",
              "      <td>1.954747e-16</td>\n",
              "      <td>4.682341e-16</td>\n",
              "      <td>...</td>\n",
              "      <td>-3.911893e-16</td>\n",
              "      <td>-3.811640e-17</td>\n",
              "      <td>2.232007e-16</td>\n",
              "      <td>1.219849e-15</td>\n",
              "      <td>-4.567635e-16</td>\n",
              "      <td>-1.110976e-16</td>\n",
              "      <td>-2.635827e-16</td>\n",
              "      <td>-3.091914e-16</td>\n",
              "      <td>0.000104</td>\n",
              "      <td>0.154876</td>\n",
              "    </tr>\n",
              "    <tr>\n",
              "      <th>V12</th>\n",
              "      <td>0.124348</td>\n",
              "      <td>2.422086e-16</td>\n",
              "      <td>-6.588252e-16</td>\n",
              "      <td>2.206522e-16</td>\n",
              "      <td>-5.657963e-16</td>\n",
              "      <td>3.761033e-16</td>\n",
              "      <td>2.140589e-16</td>\n",
              "      <td>1.510045e-15</td>\n",
              "      <td>-6.266057e-17</td>\n",
              "      <td>-2.445230e-15</td>\n",
              "      <td>...</td>\n",
              "      <td>3.229576e-16</td>\n",
              "      <td>-5.903992e-16</td>\n",
              "      <td>1.392162e-16</td>\n",
              "      <td>4.901644e-16</td>\n",
              "      <td>5.053736e-16</td>\n",
              "      <td>-5.759321e-16</td>\n",
              "      <td>-2.312619e-16</td>\n",
              "      <td>7.327446e-16</td>\n",
              "      <td>-0.009542</td>\n",
              "      <td>-0.260593</td>\n",
              "    </tr>\n",
              "    <tr>\n",
              "      <th>V13</th>\n",
              "      <td>-0.065902</td>\n",
              "      <td>-2.115458e-16</td>\n",
              "      <td>3.854521e-16</td>\n",
              "      <td>-6.883375e-16</td>\n",
              "      <td>-1.506129e-16</td>\n",
              "      <td>-9.578659e-16</td>\n",
              "      <td>-2.268061e-16</td>\n",
              "      <td>-9.892325e-17</td>\n",
              "      <td>-2.382948e-16</td>\n",
              "      <td>-2.650351e-16</td>\n",
              "      <td>...</td>\n",
              "      <td>9.499130e-17</td>\n",
              "      <td>-2.659710e-17</td>\n",
              "      <td>-5.884304e-16</td>\n",
              "      <td>-5.470547e-16</td>\n",
              "      <td>8.066738e-17</td>\n",
              "      <td>-2.121518e-16</td>\n",
              "      <td>-4.520414e-16</td>\n",
              "      <td>1.049541e-15</td>\n",
              "      <td>0.005293</td>\n",
              "      <td>-0.004570</td>\n",
              "    </tr>\n",
              "    <tr>\n",
              "      <th>V14</th>\n",
              "      <td>-0.098757</td>\n",
              "      <td>9.352582e-16</td>\n",
              "      <td>-2.541036e-16</td>\n",
              "      <td>4.271336e-16</td>\n",
              "      <td>-8.522435e-17</td>\n",
              "      <td>-3.634803e-16</td>\n",
              "      <td>3.452801e-16</td>\n",
              "      <td>-1.729462e-16</td>\n",
              "      <td>-1.131098e-16</td>\n",
              "      <td>2.343317e-16</td>\n",
              "      <td>...</td>\n",
              "      <td>1.634141e-17</td>\n",
              "      <td>3.439699e-16</td>\n",
              "      <td>7.620728e-17</td>\n",
              "      <td>2.335749e-16</td>\n",
              "      <td>-2.606783e-16</td>\n",
              "      <td>-6.580254e-18</td>\n",
              "      <td>1.285770e-16</td>\n",
              "      <td>2.503271e-15</td>\n",
              "      <td>0.033751</td>\n",
              "      <td>-0.302544</td>\n",
              "    </tr>\n",
              "    <tr>\n",
              "      <th>V15</th>\n",
              "      <td>-0.183453</td>\n",
              "      <td>-3.252451e-16</td>\n",
              "      <td>2.831060e-16</td>\n",
              "      <td>1.122756e-16</td>\n",
              "      <td>-1.507718e-16</td>\n",
              "      <td>-5.132620e-16</td>\n",
              "      <td>-6.368111e-18</td>\n",
              "      <td>1.936832e-17</td>\n",
              "      <td>2.021491e-16</td>\n",
              "      <td>-1.588105e-15</td>\n",
              "      <td>...</td>\n",
              "      <td>1.947458e-17</td>\n",
              "      <td>-8.936817e-16</td>\n",
              "      <td>1.119827e-16</td>\n",
              "      <td>-4.589689e-16</td>\n",
              "      <td>3.869740e-16</td>\n",
              "      <td>3.761094e-16</td>\n",
              "      <td>-1.265235e-15</td>\n",
              "      <td>-1.063286e-15</td>\n",
              "      <td>-0.002986</td>\n",
              "      <td>-0.004223</td>\n",
              "    </tr>\n",
              "    <tr>\n",
              "      <th>V16</th>\n",
              "      <td>0.011903</td>\n",
              "      <td>6.308789e-16</td>\n",
              "      <td>4.934097e-17</td>\n",
              "      <td>1.183364e-15</td>\n",
              "      <td>-6.939204e-16</td>\n",
              "      <td>-3.517076e-16</td>\n",
              "      <td>-2.477917e-16</td>\n",
              "      <td>2.893672e-16</td>\n",
              "      <td>5.027192e-16</td>\n",
              "      <td>-3.251906e-16</td>\n",
              "      <td>...</td>\n",
              "      <td>-3.927401e-16</td>\n",
              "      <td>3.878384e-17</td>\n",
              "      <td>8.519670e-16</td>\n",
              "      <td>-4.289239e-16</td>\n",
              "      <td>-6.644104e-16</td>\n",
              "      <td>-5.186503e-16</td>\n",
              "      <td>7.820038e-16</td>\n",
              "      <td>8.637186e-16</td>\n",
              "      <td>-0.003910</td>\n",
              "      <td>-0.196539</td>\n",
              "    </tr>\n",
              "    <tr>\n",
              "      <th>V17</th>\n",
              "      <td>-0.073297</td>\n",
              "      <td>-5.011524e-16</td>\n",
              "      <td>-9.883008e-16</td>\n",
              "      <td>4.576619e-17</td>\n",
              "      <td>-4.397925e-16</td>\n",
              "      <td>1.425729e-16</td>\n",
              "      <td>3.567582e-16</td>\n",
              "      <td>1.149692e-15</td>\n",
              "      <td>-3.508777e-16</td>\n",
              "      <td>6.535992e-16</td>\n",
              "      <td>...</td>\n",
              "      <td>-7.753967e-16</td>\n",
              "      <td>-8.389703e-16</td>\n",
              "      <td>5.367784e-16</td>\n",
              "      <td>-5.543631e-17</td>\n",
              "      <td>4.822068e-16</td>\n",
              "      <td>4.870302e-16</td>\n",
              "      <td>8.844373e-16</td>\n",
              "      <td>-2.182692e-16</td>\n",
              "      <td>0.007309</td>\n",
              "      <td>-0.326481</td>\n",
              "    </tr>\n",
              "    <tr>\n",
              "      <th>V18</th>\n",
              "      <td>0.090438</td>\n",
              "      <td>2.870125e-16</td>\n",
              "      <td>2.636654e-16</td>\n",
              "      <td>5.427965e-16</td>\n",
              "      <td>1.493667e-16</td>\n",
              "      <td>1.109525e-15</td>\n",
              "      <td>2.811474e-16</td>\n",
              "      <td>-1.116789e-16</td>\n",
              "      <td>-4.093852e-16</td>\n",
              "      <td>1.203843e-16</td>\n",
              "      <td>...</td>\n",
              "      <td>-1.140973e-15</td>\n",
              "      <td>-8.662635e-17</td>\n",
              "      <td>-3.624236e-16</td>\n",
              "      <td>-1.126043e-16</td>\n",
              "      <td>-2.310856e-16</td>\n",
              "      <td>3.183964e-16</td>\n",
              "      <td>2.435170e-16</td>\n",
              "      <td>8.844995e-16</td>\n",
              "      <td>0.035650</td>\n",
              "      <td>-0.111485</td>\n",
              "    </tr>\n",
              "    <tr>\n",
              "      <th>V19</th>\n",
              "      <td>0.028975</td>\n",
              "      <td>1.818128e-16</td>\n",
              "      <td>9.528280e-17</td>\n",
              "      <td>2.576773e-16</td>\n",
              "      <td>-2.656938e-16</td>\n",
              "      <td>-3.138234e-16</td>\n",
              "      <td>2.717167e-16</td>\n",
              "      <td>-2.874017e-16</td>\n",
              "      <td>-5.339821e-16</td>\n",
              "      <td>1.120752e-16</td>\n",
              "      <td>...</td>\n",
              "      <td>4.032541e-16</td>\n",
              "      <td>-9.690436e-16</td>\n",
              "      <td>5.733798e-16</td>\n",
              "      <td>3.126716e-17</td>\n",
              "      <td>7.415355e-16</td>\n",
              "      <td>5.614354e-16</td>\n",
              "      <td>-1.113035e-16</td>\n",
              "      <td>-1.375843e-15</td>\n",
              "      <td>-0.056151</td>\n",
              "      <td>0.034783</td>\n",
              "    </tr>\n",
              "    <tr>\n",
              "      <th>V20</th>\n",
              "      <td>-0.050866</td>\n",
              "      <td>1.036959e-16</td>\n",
              "      <td>-9.309954e-16</td>\n",
              "      <td>-9.429297e-16</td>\n",
              "      <td>-3.223123e-16</td>\n",
              "      <td>2.076048e-16</td>\n",
              "      <td>1.898638e-16</td>\n",
              "      <td>1.744242e-16</td>\n",
              "      <td>-1.095534e-16</td>\n",
              "      <td>-4.340941e-16</td>\n",
              "      <td>...</td>\n",
              "      <td>-1.120828e-15</td>\n",
              "      <td>1.105842e-15</td>\n",
              "      <td>4.986739e-16</td>\n",
              "      <td>1.637488e-16</td>\n",
              "      <td>-1.518242e-16</td>\n",
              "      <td>-2.975081e-16</td>\n",
              "      <td>-1.446069e-15</td>\n",
              "      <td>-1.133579e-16</td>\n",
              "      <td>0.339403</td>\n",
              "      <td>0.020090</td>\n",
              "    </tr>\n",
              "    <tr>\n",
              "      <th>V21</th>\n",
              "      <td>0.044736</td>\n",
              "      <td>-1.755072e-16</td>\n",
              "      <td>8.444409e-17</td>\n",
              "      <td>-2.971969e-17</td>\n",
              "      <td>-9.976950e-17</td>\n",
              "      <td>-1.368701e-16</td>\n",
              "      <td>-1.575903e-16</td>\n",
              "      <td>1.938604e-16</td>\n",
              "      <td>-2.412439e-16</td>\n",
              "      <td>4.578389e-17</td>\n",
              "      <td>...</td>\n",
              "      <td>1.000000e+00</td>\n",
              "      <td>3.905948e-15</td>\n",
              "      <td>6.127323e-16</td>\n",
              "      <td>1.298254e-16</td>\n",
              "      <td>-2.826293e-16</td>\n",
              "      <td>-4.907301e-16</td>\n",
              "      <td>-1.033403e-15</td>\n",
              "      <td>5.132234e-16</td>\n",
              "      <td>0.105999</td>\n",
              "      <td>0.040413</td>\n",
              "    </tr>\n",
              "    <tr>\n",
              "      <th>V22</th>\n",
              "      <td>0.144059</td>\n",
              "      <td>7.477367e-17</td>\n",
              "      <td>2.500830e-16</td>\n",
              "      <td>4.648259e-16</td>\n",
              "      <td>2.099922e-16</td>\n",
              "      <td>5.060029e-16</td>\n",
              "      <td>-3.362902e-16</td>\n",
              "      <td>-1.058131e-15</td>\n",
              "      <td>5.475559e-16</td>\n",
              "      <td>2.871855e-17</td>\n",
              "      <td>...</td>\n",
              "      <td>3.905948e-15</td>\n",
              "      <td>1.000000e+00</td>\n",
              "      <td>3.130812e-16</td>\n",
              "      <td>1.150829e-17</td>\n",
              "      <td>-6.078986e-16</td>\n",
              "      <td>-8.477050e-16</td>\n",
              "      <td>-1.294910e-16</td>\n",
              "      <td>-3.021376e-16</td>\n",
              "      <td>-0.064801</td>\n",
              "      <td>0.000805</td>\n",
              "    </tr>\n",
              "    <tr>\n",
              "      <th>V23</th>\n",
              "      <td>0.051142</td>\n",
              "      <td>9.808705e-16</td>\n",
              "      <td>1.059562e-16</td>\n",
              "      <td>2.115206e-17</td>\n",
              "      <td>6.002528e-17</td>\n",
              "      <td>1.637596e-16</td>\n",
              "      <td>-7.232186e-17</td>\n",
              "      <td>2.327911e-16</td>\n",
              "      <td>3.897104e-16</td>\n",
              "      <td>5.929286e-16</td>\n",
              "      <td>...</td>\n",
              "      <td>6.127323e-16</td>\n",
              "      <td>3.130812e-16</td>\n",
              "      <td>1.000000e+00</td>\n",
              "      <td>-4.411271e-17</td>\n",
              "      <td>-9.938362e-16</td>\n",
              "      <td>8.848700e-16</td>\n",
              "      <td>5.524044e-16</td>\n",
              "      <td>9.029821e-16</td>\n",
              "      <td>-0.112633</td>\n",
              "      <td>-0.002685</td>\n",
              "    </tr>\n",
              "    <tr>\n",
              "      <th>V24</th>\n",
              "      <td>-0.016182</td>\n",
              "      <td>7.354269e-17</td>\n",
              "      <td>-8.142354e-18</td>\n",
              "      <td>-9.351637e-17</td>\n",
              "      <td>2.229738e-16</td>\n",
              "      <td>-9.286095e-16</td>\n",
              "      <td>-1.261867e-15</td>\n",
              "      <td>-2.589727e-17</td>\n",
              "      <td>-1.802967e-16</td>\n",
              "      <td>-2.346385e-16</td>\n",
              "      <td>...</td>\n",
              "      <td>1.298254e-16</td>\n",
              "      <td>1.150829e-17</td>\n",
              "      <td>-4.411271e-17</td>\n",
              "      <td>1.000000e+00</td>\n",
              "      <td>1.557318e-15</td>\n",
              "      <td>3.129195e-16</td>\n",
              "      <td>-3.736529e-16</td>\n",
              "      <td>-2.259275e-16</td>\n",
              "      <td>0.005146</td>\n",
              "      <td>-0.007221</td>\n",
              "    </tr>\n",
              "    <tr>\n",
              "      <th>V25</th>\n",
              "      <td>-0.233083</td>\n",
              "      <td>-9.805358e-16</td>\n",
              "      <td>-4.261894e-17</td>\n",
              "      <td>4.771164e-16</td>\n",
              "      <td>5.394585e-16</td>\n",
              "      <td>5.625102e-16</td>\n",
              "      <td>1.081933e-15</td>\n",
              "      <td>1.174169e-15</td>\n",
              "      <td>-1.390791e-16</td>\n",
              "      <td>1.099645e-15</td>\n",
              "      <td>...</td>\n",
              "      <td>-2.826293e-16</td>\n",
              "      <td>-6.078986e-16</td>\n",
              "      <td>-9.938362e-16</td>\n",
              "      <td>1.557318e-15</td>\n",
              "      <td>1.000000e+00</td>\n",
              "      <td>2.810884e-15</td>\n",
              "      <td>-6.107118e-16</td>\n",
              "      <td>3.399375e-16</td>\n",
              "      <td>-0.047837</td>\n",
              "      <td>0.003308</td>\n",
              "    </tr>\n",
              "    <tr>\n",
              "      <th>V26</th>\n",
              "      <td>-0.041407</td>\n",
              "      <td>-8.621897e-17</td>\n",
              "      <td>2.601622e-16</td>\n",
              "      <td>6.521501e-16</td>\n",
              "      <td>-6.179751e-16</td>\n",
              "      <td>9.144690e-16</td>\n",
              "      <td>-2.378414e-16</td>\n",
              "      <td>-7.334507e-16</td>\n",
              "      <td>-1.209975e-16</td>\n",
              "      <td>-1.388725e-15</td>\n",
              "      <td>...</td>\n",
              "      <td>-4.907301e-16</td>\n",
              "      <td>-8.477050e-16</td>\n",
              "      <td>8.848700e-16</td>\n",
              "      <td>3.129195e-16</td>\n",
              "      <td>2.810884e-15</td>\n",
              "      <td>1.000000e+00</td>\n",
              "      <td>-3.383861e-16</td>\n",
              "      <td>-3.751403e-16</td>\n",
              "      <td>-0.003208</td>\n",
              "      <td>0.004455</td>\n",
              "    </tr>\n",
              "    <tr>\n",
              "      <th>V27</th>\n",
              "      <td>-0.005135</td>\n",
              "      <td>3.208233e-17</td>\n",
              "      <td>-4.478472e-16</td>\n",
              "      <td>6.239832e-16</td>\n",
              "      <td>-6.403423e-17</td>\n",
              "      <td>4.465960e-16</td>\n",
              "      <td>-2.623818e-16</td>\n",
              "      <td>-5.886825e-16</td>\n",
              "      <td>1.733633e-16</td>\n",
              "      <td>-2.287414e-16</td>\n",
              "      <td>...</td>\n",
              "      <td>-1.033403e-15</td>\n",
              "      <td>-1.294910e-16</td>\n",
              "      <td>5.524044e-16</td>\n",
              "      <td>-3.736529e-16</td>\n",
              "      <td>-6.107118e-16</td>\n",
              "      <td>-3.383861e-16</td>\n",
              "      <td>1.000000e+00</td>\n",
              "      <td>-3.770124e-16</td>\n",
              "      <td>0.028825</td>\n",
              "      <td>0.017580</td>\n",
              "    </tr>\n",
              "    <tr>\n",
              "      <th>V28</th>\n",
              "      <td>-0.009413</td>\n",
              "      <td>9.820892e-16</td>\n",
              "      <td>-3.676415e-16</td>\n",
              "      <td>7.726948e-16</td>\n",
              "      <td>-5.863664e-17</td>\n",
              "      <td>-3.299167e-16</td>\n",
              "      <td>4.813155e-16</td>\n",
              "      <td>-6.836764e-17</td>\n",
              "      <td>-4.484325e-16</td>\n",
              "      <td>9.146779e-16</td>\n",
              "      <td>...</td>\n",
              "      <td>5.132234e-16</td>\n",
              "      <td>-3.021376e-16</td>\n",
              "      <td>9.029821e-16</td>\n",
              "      <td>-2.259275e-16</td>\n",
              "      <td>3.399375e-16</td>\n",
              "      <td>-3.751403e-16</td>\n",
              "      <td>-3.770124e-16</td>\n",
              "      <td>1.000000e+00</td>\n",
              "      <td>0.010258</td>\n",
              "      <td>0.009536</td>\n",
              "    </tr>\n",
              "    <tr>\n",
              "      <th>Amount</th>\n",
              "      <td>-0.010596</td>\n",
              "      <td>-2.277087e-01</td>\n",
              "      <td>-5.314089e-01</td>\n",
              "      <td>-2.108805e-01</td>\n",
              "      <td>9.873167e-02</td>\n",
              "      <td>-3.863563e-01</td>\n",
              "      <td>2.159812e-01</td>\n",
              "      <td>3.973113e-01</td>\n",
              "      <td>-1.030791e-01</td>\n",
              "      <td>-4.424560e-02</td>\n",
              "      <td>...</td>\n",
              "      <td>1.059989e-01</td>\n",
              "      <td>-6.480065e-02</td>\n",
              "      <td>-1.126326e-01</td>\n",
              "      <td>5.146217e-03</td>\n",
              "      <td>-4.783686e-02</td>\n",
              "      <td>-3.208037e-03</td>\n",
              "      <td>2.882546e-02</td>\n",
              "      <td>1.025822e-02</td>\n",
              "      <td>1.000000</td>\n",
              "      <td>0.005632</td>\n",
              "    </tr>\n",
              "    <tr>\n",
              "      <th>Class</th>\n",
              "      <td>-0.012323</td>\n",
              "      <td>-1.013473e-01</td>\n",
              "      <td>9.128865e-02</td>\n",
              "      <td>-1.929608e-01</td>\n",
              "      <td>1.334475e-01</td>\n",
              "      <td>-9.497430e-02</td>\n",
              "      <td>-4.364316e-02</td>\n",
              "      <td>-1.872566e-01</td>\n",
              "      <td>1.987512e-02</td>\n",
              "      <td>-9.773269e-02</td>\n",
              "      <td>...</td>\n",
              "      <td>4.041338e-02</td>\n",
              "      <td>8.053175e-04</td>\n",
              "      <td>-2.685156e-03</td>\n",
              "      <td>-7.220907e-03</td>\n",
              "      <td>3.307706e-03</td>\n",
              "      <td>4.455398e-03</td>\n",
              "      <td>1.757973e-02</td>\n",
              "      <td>9.536041e-03</td>\n",
              "      <td>0.005632</td>\n",
              "      <td>1.000000</td>\n",
              "    </tr>\n",
              "  </tbody>\n",
              "</table>\n",
              "<p>31 rows × 31 columns</p>\n",
              "</div>"
            ],
            "text/plain": [
              "            Time            V1            V2            V3            V4  \\\n",
              "Time    1.000000  1.173963e-01 -1.059333e-02 -4.196182e-01 -1.052602e-01   \n",
              "V1      0.117396  1.000000e+00  4.697350e-17 -1.424390e-15  1.755316e-17   \n",
              "V2     -0.010593  4.697350e-17  1.000000e+00  2.512175e-16 -1.126388e-16   \n",
              "V3     -0.419618 -1.424390e-15  2.512175e-16  1.000000e+00 -3.416910e-16   \n",
              "V4     -0.105260  1.755316e-17 -1.126388e-16 -3.416910e-16  1.000000e+00   \n",
              "V5      0.173072  6.391162e-17 -2.039868e-16 -1.436514e-15 -1.940929e-15   \n",
              "V6     -0.063016  2.398071e-16  5.024680e-16  1.431581e-15 -2.712659e-16   \n",
              "V7      0.084714  1.991550e-15  3.966486e-16  2.168574e-15  1.556330e-16   \n",
              "V8     -0.036949 -9.490675e-17 -4.413984e-17  3.433113e-16  5.195643e-16   \n",
              "V9     -0.008660  2.169581e-16 -5.728718e-17 -4.233770e-16  3.859585e-16   \n",
              "V10     0.030617  7.433820e-17 -4.782388e-16  6.289267e-16  6.055490e-16   \n",
              "V11    -0.247689  2.438580e-16  9.468995e-16 -5.501758e-17 -2.083600e-16   \n",
              "V12     0.124348  2.422086e-16 -6.588252e-16  2.206522e-16 -5.657963e-16   \n",
              "V13    -0.065902 -2.115458e-16  3.854521e-16 -6.883375e-16 -1.506129e-16   \n",
              "V14    -0.098757  9.352582e-16 -2.541036e-16  4.271336e-16 -8.522435e-17   \n",
              "V15    -0.183453 -3.252451e-16  2.831060e-16  1.122756e-16 -1.507718e-16   \n",
              "V16     0.011903  6.308789e-16  4.934097e-17  1.183364e-15 -6.939204e-16   \n",
              "V17    -0.073297 -5.011524e-16 -9.883008e-16  4.576619e-17 -4.397925e-16   \n",
              "V18     0.090438  2.870125e-16  2.636654e-16  5.427965e-16  1.493667e-16   \n",
              "V19     0.028975  1.818128e-16  9.528280e-17  2.576773e-16 -2.656938e-16   \n",
              "V20    -0.050866  1.036959e-16 -9.309954e-16 -9.429297e-16 -3.223123e-16   \n",
              "V21     0.044736 -1.755072e-16  8.444409e-17 -2.971969e-17 -9.976950e-17   \n",
              "V22     0.144059  7.477367e-17  2.500830e-16  4.648259e-16  2.099922e-16   \n",
              "V23     0.051142  9.808705e-16  1.059562e-16  2.115206e-17  6.002528e-17   \n",
              "V24    -0.016182  7.354269e-17 -8.142354e-18 -9.351637e-17  2.229738e-16   \n",
              "V25    -0.233083 -9.805358e-16 -4.261894e-17  4.771164e-16  5.394585e-16   \n",
              "V26    -0.041407 -8.621897e-17  2.601622e-16  6.521501e-16 -6.179751e-16   \n",
              "V27    -0.005135  3.208233e-17 -4.478472e-16  6.239832e-16 -6.403423e-17   \n",
              "V28    -0.009413  9.820892e-16 -3.676415e-16  7.726948e-16 -5.863664e-17   \n",
              "Amount -0.010596 -2.277087e-01 -5.314089e-01 -2.108805e-01  9.873167e-02   \n",
              "Class  -0.012323 -1.013473e-01  9.128865e-02 -1.929608e-01  1.334475e-01   \n",
              "\n",
              "                  V5            V6            V7            V8            V9  \\\n",
              "Time    1.730721e-01 -6.301647e-02  8.471437e-02 -3.694943e-02 -8.660434e-03   \n",
              "V1      6.391162e-17  2.398071e-16  1.991550e-15 -9.490675e-17  2.169581e-16   \n",
              "V2     -2.039868e-16  5.024680e-16  3.966486e-16 -4.413984e-17 -5.728718e-17   \n",
              "V3     -1.436514e-15  1.431581e-15  2.168574e-15  3.433113e-16 -4.233770e-16   \n",
              "V4     -1.940929e-15 -2.712659e-16  1.556330e-16  5.195643e-16  3.859585e-16   \n",
              "V5      1.000000e+00  7.926364e-16 -4.209851e-16  7.589187e-16  4.205206e-16   \n",
              "V6      7.926364e-16  1.000000e+00  1.429426e-16 -1.707421e-16  1.114447e-16   \n",
              "V7     -4.209851e-16  1.429426e-16  1.000000e+00 -8.691834e-17  7.933251e-16   \n",
              "V8      7.589187e-16 -1.707421e-16 -8.691834e-17  1.000000e+00  2.900829e-16   \n",
              "V9      4.205206e-16  1.114447e-16  7.933251e-16  2.900829e-16  1.000000e+00   \n",
              "V10    -6.601716e-16  2.850776e-16  3.043333e-17  9.051847e-17 -2.771761e-16   \n",
              "V11     7.342759e-16  4.865799e-16 -1.084105e-15  1.954747e-16  4.682341e-16   \n",
              "V12     3.761033e-16  2.140589e-16  1.510045e-15 -6.266057e-17 -2.445230e-15   \n",
              "V13    -9.578659e-16 -2.268061e-16 -9.892325e-17 -2.382948e-16 -2.650351e-16   \n",
              "V14    -3.634803e-16  3.452801e-16 -1.729462e-16 -1.131098e-16  2.343317e-16   \n",
              "V15    -5.132620e-16 -6.368111e-18  1.936832e-17  2.021491e-16 -1.588105e-15   \n",
              "V16    -3.517076e-16 -2.477917e-16  2.893672e-16  5.027192e-16 -3.251906e-16   \n",
              "V17     1.425729e-16  3.567582e-16  1.149692e-15 -3.508777e-16  6.535992e-16   \n",
              "V18     1.109525e-15  2.811474e-16 -1.116789e-16 -4.093852e-16  1.203843e-16   \n",
              "V19    -3.138234e-16  2.717167e-16 -2.874017e-16 -5.339821e-16  1.120752e-16   \n",
              "V20     2.076048e-16  1.898638e-16  1.744242e-16 -1.095534e-16 -4.340941e-16   \n",
              "V21    -1.368701e-16 -1.575903e-16  1.938604e-16 -2.412439e-16  4.578389e-17   \n",
              "V22     5.060029e-16 -3.362902e-16 -1.058131e-15  5.475559e-16  2.871855e-17   \n",
              "V23     1.637596e-16 -7.232186e-17  2.327911e-16  3.897104e-16  5.929286e-16   \n",
              "V24    -9.286095e-16 -1.261867e-15 -2.589727e-17 -1.802967e-16 -2.346385e-16   \n",
              "V25     5.625102e-16  1.081933e-15  1.174169e-15 -1.390791e-16  1.099645e-15   \n",
              "V26     9.144690e-16 -2.378414e-16 -7.334507e-16 -1.209975e-16 -1.388725e-15   \n",
              "V27     4.465960e-16 -2.623818e-16 -5.886825e-16  1.733633e-16 -2.287414e-16   \n",
              "V28    -3.299167e-16  4.813155e-16 -6.836764e-17 -4.484325e-16  9.146779e-16   \n",
              "Amount -3.863563e-01  2.159812e-01  3.973113e-01 -1.030791e-01 -4.424560e-02   \n",
              "Class  -9.497430e-02 -4.364316e-02 -1.872566e-01  1.987512e-02 -9.773269e-02   \n",
              "\n",
              "          ...              V21           V22           V23           V24  \\\n",
              "Time      ...     4.473573e-02  1.440591e-01  5.114236e-02 -1.618187e-02   \n",
              "V1        ...    -1.755072e-16  7.477367e-17  9.808705e-16  7.354269e-17   \n",
              "V2        ...     8.444409e-17  2.500830e-16  1.059562e-16 -8.142354e-18   \n",
              "V3        ...    -2.971969e-17  4.648259e-16  2.115206e-17 -9.351637e-17   \n",
              "V4        ...    -9.976950e-17  2.099922e-16  6.002528e-17  2.229738e-16   \n",
              "V5        ...    -1.368701e-16  5.060029e-16  1.637596e-16 -9.286095e-16   \n",
              "V6        ...    -1.575903e-16 -3.362902e-16 -7.232186e-17 -1.261867e-15   \n",
              "V7        ...     1.938604e-16 -1.058131e-15  2.327911e-16 -2.589727e-17   \n",
              "V8        ...    -2.412439e-16  5.475559e-16  3.897104e-16 -1.802967e-16   \n",
              "V9        ...     4.578389e-17  2.871855e-17  5.929286e-16 -2.346385e-16   \n",
              "V10       ...     8.089504e-16 -6.707598e-16  3.809732e-16 -4.032806e-17   \n",
              "V11       ...    -3.911893e-16 -3.811640e-17  2.232007e-16  1.219849e-15   \n",
              "V12       ...     3.229576e-16 -5.903992e-16  1.392162e-16  4.901644e-16   \n",
              "V13       ...     9.499130e-17 -2.659710e-17 -5.884304e-16 -5.470547e-16   \n",
              "V14       ...     1.634141e-17  3.439699e-16  7.620728e-17  2.335749e-16   \n",
              "V15       ...     1.947458e-17 -8.936817e-16  1.119827e-16 -4.589689e-16   \n",
              "V16       ...    -3.927401e-16  3.878384e-17  8.519670e-16 -4.289239e-16   \n",
              "V17       ...    -7.753967e-16 -8.389703e-16  5.367784e-16 -5.543631e-17   \n",
              "V18       ...    -1.140973e-15 -8.662635e-17 -3.624236e-16 -1.126043e-16   \n",
              "V19       ...     4.032541e-16 -9.690436e-16  5.733798e-16  3.126716e-17   \n",
              "V20       ...    -1.120828e-15  1.105842e-15  4.986739e-16  1.637488e-16   \n",
              "V21       ...     1.000000e+00  3.905948e-15  6.127323e-16  1.298254e-16   \n",
              "V22       ...     3.905948e-15  1.000000e+00  3.130812e-16  1.150829e-17   \n",
              "V23       ...     6.127323e-16  3.130812e-16  1.000000e+00 -4.411271e-17   \n",
              "V24       ...     1.298254e-16  1.150829e-17 -4.411271e-17  1.000000e+00   \n",
              "V25       ...    -2.826293e-16 -6.078986e-16 -9.938362e-16  1.557318e-15   \n",
              "V26       ...    -4.907301e-16 -8.477050e-16  8.848700e-16  3.129195e-16   \n",
              "V27       ...    -1.033403e-15 -1.294910e-16  5.524044e-16 -3.736529e-16   \n",
              "V28       ...     5.132234e-16 -3.021376e-16  9.029821e-16 -2.259275e-16   \n",
              "Amount    ...     1.059989e-01 -6.480065e-02 -1.126326e-01  5.146217e-03   \n",
              "Class     ...     4.041338e-02  8.053175e-04 -2.685156e-03 -7.220907e-03   \n",
              "\n",
              "                 V25           V26           V27           V28    Amount  \\\n",
              "Time   -2.330828e-01 -4.140710e-02 -5.134591e-03 -9.412688e-03 -0.010596   \n",
              "V1     -9.805358e-16 -8.621897e-17  3.208233e-17  9.820892e-16 -0.227709   \n",
              "V2     -4.261894e-17  2.601622e-16 -4.478472e-16 -3.676415e-16 -0.531409   \n",
              "V3      4.771164e-16  6.521501e-16  6.239832e-16  7.726948e-16 -0.210880   \n",
              "V4      5.394585e-16 -6.179751e-16 -6.403423e-17 -5.863664e-17  0.098732   \n",
              "V5      5.625102e-16  9.144690e-16  4.465960e-16 -3.299167e-16 -0.386356   \n",
              "V6      1.081933e-15 -2.378414e-16 -2.623818e-16  4.813155e-16  0.215981   \n",
              "V7      1.174169e-15 -7.334507e-16 -5.886825e-16 -6.836764e-17  0.397311   \n",
              "V8     -1.390791e-16 -1.209975e-16  1.733633e-16 -4.484325e-16 -0.103079   \n",
              "V9      1.099645e-15 -1.388725e-15 -2.287414e-16  9.146779e-16 -0.044246   \n",
              "V10    -2.863813e-16 -2.554293e-16 -3.103239e-16 -1.515934e-16 -0.101502   \n",
              "V11    -4.567635e-16 -1.110976e-16 -2.635827e-16 -3.091914e-16  0.000104   \n",
              "V12     5.053736e-16 -5.759321e-16 -2.312619e-16  7.327446e-16 -0.009542   \n",
              "V13     8.066738e-17 -2.121518e-16 -4.520414e-16  1.049541e-15  0.005293   \n",
              "V14    -2.606783e-16 -6.580254e-18  1.285770e-16  2.503271e-15  0.033751   \n",
              "V15     3.869740e-16  3.761094e-16 -1.265235e-15 -1.063286e-15 -0.002986   \n",
              "V16    -6.644104e-16 -5.186503e-16  7.820038e-16  8.637186e-16 -0.003910   \n",
              "V17     4.822068e-16  4.870302e-16  8.844373e-16 -2.182692e-16  0.007309   \n",
              "V18    -2.310856e-16  3.183964e-16  2.435170e-16  8.844995e-16  0.035650   \n",
              "V19     7.415355e-16  5.614354e-16 -1.113035e-16 -1.375843e-15 -0.056151   \n",
              "V20    -1.518242e-16 -2.975081e-16 -1.446069e-15 -1.133579e-16  0.339403   \n",
              "V21    -2.826293e-16 -4.907301e-16 -1.033403e-15  5.132234e-16  0.105999   \n",
              "V22    -6.078986e-16 -8.477050e-16 -1.294910e-16 -3.021376e-16 -0.064801   \n",
              "V23    -9.938362e-16  8.848700e-16  5.524044e-16  9.029821e-16 -0.112633   \n",
              "V24     1.557318e-15  3.129195e-16 -3.736529e-16 -2.259275e-16  0.005146   \n",
              "V25     1.000000e+00  2.810884e-15 -6.107118e-16  3.399375e-16 -0.047837   \n",
              "V26     2.810884e-15  1.000000e+00 -3.383861e-16 -3.751403e-16 -0.003208   \n",
              "V27    -6.107118e-16 -3.383861e-16  1.000000e+00 -3.770124e-16  0.028825   \n",
              "V28     3.399375e-16 -3.751403e-16 -3.770124e-16  1.000000e+00  0.010258   \n",
              "Amount -4.783686e-02 -3.208037e-03  2.882546e-02  1.025822e-02  1.000000   \n",
              "Class   3.307706e-03  4.455398e-03  1.757973e-02  9.536041e-03  0.005632   \n",
              "\n",
              "           Class  \n",
              "Time   -0.012323  \n",
              "V1     -0.101347  \n",
              "V2      0.091289  \n",
              "V3     -0.192961  \n",
              "V4      0.133447  \n",
              "V5     -0.094974  \n",
              "V6     -0.043643  \n",
              "V7     -0.187257  \n",
              "V8      0.019875  \n",
              "V9     -0.097733  \n",
              "V10    -0.216883  \n",
              "V11     0.154876  \n",
              "V12    -0.260593  \n",
              "V13    -0.004570  \n",
              "V14    -0.302544  \n",
              "V15    -0.004223  \n",
              "V16    -0.196539  \n",
              "V17    -0.326481  \n",
              "V18    -0.111485  \n",
              "V19     0.034783  \n",
              "V20     0.020090  \n",
              "V21     0.040413  \n",
              "V22     0.000805  \n",
              "V23    -0.002685  \n",
              "V24    -0.007221  \n",
              "V25     0.003308  \n",
              "V26     0.004455  \n",
              "V27     0.017580  \n",
              "V28     0.009536  \n",
              "Amount  0.005632  \n",
              "Class   1.000000  \n",
              "\n",
              "[31 rows x 31 columns]"
            ]
          },
          "metadata": {
            "tags": []
          },
          "execution_count": 5
        }
      ]
    },
    {
      "metadata": {
        "id": "faqmlt0SfUco",
        "colab_type": "code",
        "outputId": "0cb9e7a7-c79a-4b39-f68d-e022c525d6ee",
        "colab": {
          "base_uri": "https://localhost:8080/",
          "height": 533
        }
      },
      "cell_type": "code",
      "source": [
        "corr = df.corr()\n",
        "fig = plt.figure()\n",
        "ax = fig.add_subplot(111)\n",
        "cax = ax.matshow(corr,cmap='coolwarm', vmin=-1, vmax=1)\n",
        "fig.colorbar(cax)\n",
        "ticks = np.arange(0,len(df.columns),1)\n",
        "ax.set_xticks(ticks)\n",
        "plt.xticks(rotation=90)\n",
        "ax.set_yticks(ticks)\n",
        "ax.set_xticklabels(df.columns)\n",
        "ax.set_yticklabels(df.columns)\n",
        "plt.show()"
      ],
      "execution_count": 9,
      "outputs": [
        {
          "output_type": "display_data",
          "data": {
            "image/png": "[encoded data removed]",
            "text/plain": [
              "<Figure size 1008x576 with 2 Axes>"
            ]
          },
          "metadata": {
            "tags": []
          }
        }
      ]
    },
    {
      "metadata": {
        "id": "jv09igFTh0ky",
        "colab_type": "text"
      },
      "cell_type": "markdown",
      "source": [
        "when there is no correlation between 2 variables (when correlation is 0 or near 0) the color is gray. The darkest red means there is a perfect positive correlation, while the darkest blue means there is a perfect negative correlation"
      ]
    },
    {
      "metadata": {
        "id": "PXR-_HPUN4-T",
        "colab_type": "code",
        "outputId": "e89ea749-08f8-49ed-dc9b-75e0e903af85",
        "colab": {
          "base_uri": "https://localhost:8080/",
          "height": 34
        }
      },
      "cell_type": "code",
      "source": [
        "df.isnull().values.any()"
      ],
      "execution_count": 0,
      "outputs": [
        {
          "output_type": "execute_result",
          "data": {
            "text/plain": [
              "False"
            ]
          },
          "metadata": {
            "tags": []
          },
          "execution_count": 6
        }
      ]
    },
    {
      "metadata": {
        "id": "qWH0y2YwOWYg",
        "colab_type": "text"
      },
      "cell_type": "markdown",
      "source": [
        "Dataset has no null values so we proceed with"
      ]
    },
    {
      "metadata": {
        "id": "CSaMOn-iOjzE",
        "colab_type": "code",
        "outputId": "f64803ed-1e3b-46c3-c110-87eea393363d",
        "colab": {
          "base_uri": "https://localhost:8080/",
          "height": 525
        }
      },
      "cell_type": "code",
      "source": [
        "count_classes = pd.value_counts(df['Class'], sort = True)\n",
        "count_classes.plot(kind = 'bar', rot=0)\n",
        "plt.title(\"Transaction class distribution\")\n",
        "plt.xticks(range(2), LABELS)\n",
        "plt.xlabel(\"Class\")\n",
        "plt.ylabel(\"Frequency\");"
      ],
      "execution_count": 0,
      "outputs": [
        {
          "output_type": "display_data",
          "data": {
            "image/png": "[encoded data removed]",
            "text/plain": [
              "<Figure size 1008x576 with 1 Axes>"
            ]
          },
          "metadata": {
            "tags": []
          }
        }
      ]
    },
    {
      "metadata": {
        "id": "33wdx9D1PNd1",
        "colab_type": "text"
      },
      "cell_type": "markdown",
      "source": [
        "This dataset has larger non-fraudulent data compared to fraud data, it looks like imbalanced dataset"
      ]
    },
    {
      "metadata": {
        "id": "8iSIdunvPwgk",
        "colab_type": "code",
        "colab": {}
      },
      "cell_type": "code",
      "source": [
        "frauds_df = df[df.Class == 1]\n",
        "normal_df = df[df.Class == 0]"
      ],
      "execution_count": 0,
      "outputs": []
    },
    {
      "metadata": {
        "id": "NtTEQX5Biqnp",
        "colab_type": "text"
      },
      "cell_type": "markdown",
      "source": [
        "Separate the fraudulent data and normal data into two dataframe "
      ]
    },
    {
      "metadata": {
        "id": "4d85SWZVQa44",
        "colab_type": "code",
        "outputId": "6580b43d-e948-4b0f-b4e1-c7ffd1cb2e27",
        "colab": {
          "base_uri": "https://localhost:8080/",
          "height": 34
        }
      },
      "cell_type": "code",
      "source": [
        "frauds_df.shape"
      ],
      "execution_count": 0,
      "outputs": [
        {
          "output_type": "execute_result",
          "data": {
            "text/plain": [
              "(492, 31)"
            ]
          },
          "metadata": {
            "tags": []
          },
          "execution_count": 12
        }
      ]
    },
    {
      "metadata": {
        "id": "eGivM0sZQiEg",
        "colab_type": "code",
        "outputId": "4193247e-d0d0-477e-bd24-d1834141184e",
        "colab": {
          "base_uri": "https://localhost:8080/",
          "height": 34
        }
      },
      "cell_type": "code",
      "source": [
        "normal_df.shape"
      ],
      "execution_count": 0,
      "outputs": [
        {
          "output_type": "execute_result",
          "data": {
            "text/plain": [
              "(284315, 31)"
            ]
          },
          "metadata": {
            "tags": []
          },
          "execution_count": 13
        }
      ]
    },
    {
      "metadata": {
        "id": "XQ-y-kqZQuSG",
        "colab_type": "code",
        "outputId": "d9bf7976-8186-48ac-d439-3bd8d9b6dd21",
        "colab": {
          "base_uri": "https://localhost:8080/",
          "height": 170
        }
      },
      "cell_type": "code",
      "source": [
        "normal_df.Amount.describe()"
      ],
      "execution_count": 0,
      "outputs": [
        {
          "output_type": "execute_result",
          "data": {
            "text/plain": [
              "count    284315.000000\n",
              "mean         88.291022\n",
              "std         250.105092\n",
              "min           0.000000\n",
              "25%           5.650000\n",
              "50%          22.000000\n",
              "75%          77.050000\n",
              "max       25691.160000\n",
              "Name: Amount, dtype: float64"
            ]
          },
          "metadata": {
            "tags": []
          },
          "execution_count": 14
        }
      ]
    },
    {
      "metadata": {
        "id": "zohSIQsJQ1Lt",
        "colab_type": "code",
        "outputId": "0a8e36f9-a624-48a8-9413-eed2bb147499",
        "colab": {
          "base_uri": "https://localhost:8080/",
          "height": 170
        }
      },
      "cell_type": "code",
      "source": [
        "frauds_df.Amount.describe()"
      ],
      "execution_count": 0,
      "outputs": [
        {
          "output_type": "execute_result",
          "data": {
            "text/plain": [
              "count     492.000000\n",
              "mean      122.211321\n",
              "std       256.683288\n",
              "min         0.000000\n",
              "25%         1.000000\n",
              "50%         9.250000\n",
              "75%       105.890000\n",
              "max      2125.870000\n",
              "Name: Amount, dtype: float64"
            ]
          },
          "metadata": {
            "tags": []
          },
          "execution_count": 15
        }
      ]
    },
    {
      "metadata": {
        "id": "EHRjAn4pQ8Ti",
        "colab_type": "text"
      },
      "cell_type": "markdown",
      "source": [
        "if we closely look at the stats of fraud data mean is varied from normal drastically"
      ]
    },
    {
      "metadata": {
        "id": "xACjoEhARRNr",
        "colab_type": "code",
        "outputId": "699fb475-4f24-4d73-c8f3-3605edcfdcb3",
        "colab": {
          "base_uri": "https://localhost:8080/",
          "height": 563
        }
      },
      "cell_type": "code",
      "source": [
        "f, (ax1, ax2) = plt.subplots(2, 1, sharex=True)\n",
        "f.suptitle('Amount per transaction by class')\n",
        "\n",
        "bins = 50\n",
        "\n",
        "ax1.hist(frauds_df.Amount, bins = bins)\n",
        "ax1.set_title('Fraud')\n",
        "\n",
        "ax2.hist(normal_df.Amount, bins = bins)\n",
        "ax2.set_title('Normal')\n",
        "\n",
        "plt.xlabel('Amount ($)')\n",
        "plt.ylabel('Number of Transactions')\n",
        "plt.xlim((0, 20000))\n",
        "plt.yscale('log')\n",
        "plt.show();"
      ],
      "execution_count": 0,
      "outputs": [
        {
          "output_type": "display_data",
          "data": {
            "image/png": "[encoded data removed]",
            "text/plain": [
              "<Figure size 1008x576 with 2 Axes>"
            ]
          },
          "metadata": {
            "tags": []
          }
        }
      ]
    },
    {
      "metadata": {
        "id": "rBszuq2aT37N",
        "colab_type": "code",
        "outputId": "ee798472-a111-4cc2-956c-a8c83a175d4c",
        "colab": {
          "base_uri": "https://localhost:8080/",
          "height": 563
        }
      },
      "cell_type": "code",
      "source": [
        "f, (ax1, ax2) = plt.subplots(2, 1, sharex=True)\n",
        "f.suptitle('Time of transaction vs Amount by class')\n",
        "\n",
        "ax1.scatter(frauds_df.Time, frauds.Amount)\n",
        "ax1.set_title('Fraud')\n",
        "\n",
        "ax2.scatter(normal_df.Time, normal.Amount)\n",
        "ax2.set_title('Normal')\n",
        "\n",
        "plt.xlabel('Time (in Seconds)')\n",
        "plt.ylabel('Amount')\n",
        "plt.show()"
      ],
      "execution_count": 0,
      "outputs": [
        {
          "output_type": "display_data",
          "data": {
            "image/png": "[encoded data removed]",
            "text/plain": [
              "<Figure size 1008x576 with 2 Axes>"
            ]
          },
          "metadata": {
            "tags": []
          }
        }
      ]
    },
    {
      "metadata": {
        "id": "HUOxSImCUpS-",
        "colab_type": "code",
        "outputId": "e8570985-f16c-4305-9efd-5f1abc04d979",
        "colab": {
          "base_uri": "https://localhost:8080/",
          "height": 34
        }
      },
      "cell_type": "code",
      "source": [
        "from sklearn.preprocessing import StandardScaler\n",
        "data = df.drop(['Time'], axis=1)\n",
        "data['Amount'] = StandardScaler().fit_transform(data['Amount'].values.reshape(-1, 1))\n",
        "X_train, X_test = train_test_split(data, test_size=0.2, random_state=RANDOM_SEED)\n",
        "X_train = X_train[X_train.Class == 0]\n",
        "X_train = X_train.drop(['Class'], axis=1)\n",
        "y_test = X_test['Class']\n",
        "X_test = X_test.drop(['Class'], axis=1)\n",
        "X_train = X_train.values\n",
        "X_test = X_test.values\n",
        "X_train.shape"
      ],
      "execution_count": 11,
      "outputs": [
        {
          "output_type": "execute_result",
          "data": {
            "text/plain": [
              "(227451, 29)"
            ]
          },
          "metadata": {
            "tags": []
          },
          "execution_count": 11
        }
      ]
    },
    {
      "metadata": {
        "id": "l_b7EVu4cHhT",
        "colab_type": "text"
      },
      "cell_type": "markdown",
      "source": [
        "Here I have split the datset for test and train and also done some scaling to"
      ]
    },
    {
      "metadata": {
        "id": "6Rqgkvb_U5_o",
        "colab_type": "code",
        "outputId": "5eb72a4c-895f-4e12-e7eb-710a2cd2e7d0",
        "colab": {
          "base_uri": "https://localhost:8080/",
          "height": 714
        }
      },
      "cell_type": "code",
      "source": [
        "input_dim = X_train.shape[1]\n",
        "encoding_dim = 28\n",
        "\n",
        "input_layer = Input(shape=(input_dim, ))\n",
        "encoder = Dense(encoding_dim, activation=\"tanh\", \n",
        "                activity_regularizer=regularizers.l1(10e-5))(input_layer)\n",
        "encoder = Dense(int(encoding_dim / 2), activation=\"relu\")(encoder)\n",
        "decoder = Dense(int(encoding_dim / 2), activation='tanh')(encoder)\n",
        "decoder = Dense(input_dim, activation='relu')(decoder)\n",
        "autoencoder = Model(inputs=input_layer, outputs=decoder)\n",
        "nb_epoch = 20\n",
        "batch_size = 32\n",
        "autoencoder.compile(optimizer='adam', \n",
        "                    loss='mean_squared_error', \n",
        "                    metrics=['accuracy'])\n",
        "checkpointer = ModelCheckpoint(filepath=\"model.h5\",\n",
        "                               verbose=0,\n",
        "                               save_best_only=True)\n",
        "tensorboard = TensorBoard(log_dir='./logs',\n",
        "                          histogram_freq=0,\n",
        "                          write_graph=True,\n",
        "                          write_images=True)\n",
        "history = autoencoder.fit(X_train, X_train,\n",
        "                    epochs=nb_epoch,\n",
        "                    batch_size=batch_size,\n",
        "                    shuffle=True,\n",
        "                    validation_data=(X_test, X_test),\n",
        "                    verbose=1,\n",
        "                    callbacks=[checkpointer, tensorboard]).history"
      ],
      "execution_count": 22,
      "outputs": [
        {
          "output_type": "stream",
          "text": [
            "Train on 227451 samples, validate on 56962 samples\n",
            "Epoch 1/20\n",
            "227451/227451 [==============================] - 11s 48us/step - loss: 0.7192 - acc: 0.7241 - val_loss: 0.6989 - val_acc: 0.7664\n",
            "Epoch 2/20\n",
            "227451/227451 [==============================] - 11s 47us/step - loss: 0.6547 - acc: 0.7890 - val_loss: 0.6789 - val_acc: 0.7987\n",
            "Epoch 3/20\n",
            "227451/227451 [==============================] - 11s 47us/step - loss: 0.6431 - acc: 0.8014 - val_loss: 0.6736 - val_acc: 0.7937\n",
            "Epoch 4/20\n",
            "227451/227451 [==============================] - 11s 48us/step - loss: 0.6375 - acc: 0.8010 - val_loss: 0.6679 - val_acc: 0.7997\n",
            "Epoch 5/20\n",
            "227451/227451 [==============================] - 11s 47us/step - loss: 0.6348 - acc: 0.8024 - val_loss: 0.6668 - val_acc: 0.7980\n",
            "Epoch 6/20\n",
            "227451/227451 [==============================] - 11s 48us/step - loss: 0.6326 - acc: 0.8033 - val_loss: 0.6709 - val_acc: 0.7848\n",
            "Epoch 7/20\n",
            "227451/227451 [==============================] - 12s 51us/step - loss: 0.6315 - acc: 0.8066 - val_loss: 0.6632 - val_acc: 0.8150\n",
            "Epoch 8/20\n",
            "227451/227451 [==============================] - 12s 53us/step - loss: 0.6305 - acc: 0.8082 - val_loss: 0.6626 - val_acc: 0.8153\n",
            "Epoch 9/20\n",
            "227451/227451 [==============================] - 11s 47us/step - loss: 0.6291 - acc: 0.8081 - val_loss: 0.6636 - val_acc: 0.8090\n",
            "Epoch 10/20\n",
            "227451/227451 [==============================] - 11s 50us/step - loss: 0.6291 - acc: 0.8082 - val_loss: 0.6636 - val_acc: 0.8098\n",
            "Epoch 11/20\n",
            "227451/227451 [==============================] - 11s 47us/step - loss: 0.6292 - acc: 0.8078 - val_loss: 0.6846 - val_acc: 0.7653\n",
            "Epoch 12/20\n",
            "227451/227451 [==============================] - 11s 47us/step - loss: 0.6276 - acc: 0.8096 - val_loss: 0.6596 - val_acc: 0.8166\n",
            "Epoch 13/20\n",
            "227451/227451 [==============================] - 11s 47us/step - loss: 0.6269 - acc: 0.8086 - val_loss: 0.6627 - val_acc: 0.8007\n",
            "Epoch 14/20\n",
            "227451/227451 [==============================] - 11s 46us/step - loss: 0.6267 - acc: 0.8082 - val_loss: 0.6632 - val_acc: 0.8025\n",
            "Epoch 15/20\n",
            "227451/227451 [==============================] - 11s 46us/step - loss: 0.6268 - acc: 0.8095 - val_loss: 0.6615 - val_acc: 0.8011\n",
            "Epoch 16/20\n",
            "227451/227451 [==============================] - 10s 46us/step - loss: 0.6263 - acc: 0.8073 - val_loss: 0.6608 - val_acc: 0.8083\n",
            "Epoch 17/20\n",
            "227451/227451 [==============================] - 11s 46us/step - loss: 0.6263 - acc: 0.8098 - val_loss: 0.6589 - val_acc: 0.8125\n",
            "Epoch 18/20\n",
            "227451/227451 [==============================] - 11s 47us/step - loss: 0.6263 - acc: 0.8087 - val_loss: 0.6621 - val_acc: 0.8157\n",
            "Epoch 19/20\n",
            "227451/227451 [==============================] - 11s 47us/step - loss: 0.6259 - acc: 0.8094 - val_loss: 0.6602 - val_acc: 0.8118\n",
            "Epoch 20/20\n",
            "227451/227451 [==============================] - 11s 46us/step - loss: 0.6252 - acc: 0.8086 - val_loss: 0.6633 - val_acc: 0.8095\n"
          ],
          "name": "stdout"
        }
      ]
    },
    {
      "metadata": {
        "id": "NlfNduETebYU",
        "colab_type": "text"
      },
      "cell_type": "markdown",
      "source": [
        "we build the model and trained it for 100 epoc and we got 65 percentage of accuracy, dataset is too imbalanced.somewhat good model"
      ]
    },
    {
      "metadata": {
        "id": "ULIUa5OpZM9s",
        "colab_type": "code",
        "colab": {}
      },
      "cell_type": "code",
      "source": [
        "autoencoder = load_model('model.h5')"
      ],
      "execution_count": 0,
      "outputs": []
    },
    {
      "metadata": {
        "id": "hQmU050Sez2J",
        "colab_type": "text"
      },
      "cell_type": "markdown",
      "source": [
        "for the shake of learning to load the saved model"
      ]
    },
    {
      "metadata": {
        "id": "MRf3iaG7ZSLP",
        "colab_type": "code",
        "outputId": "8e5bdabd-7a20-4ac4-bce3-4ca7bb109a40",
        "colab": {
          "base_uri": "https://localhost:8080/",
          "height": 525
        }
      },
      "cell_type": "code",
      "source": [
        "plt.plot(history['loss'])\n",
        "plt.plot(history['val_loss'])\n",
        "plt.title('model loss')\n",
        "plt.ylabel('loss')\n",
        "plt.xlabel('epoch')\n",
        "plt.legend(['train', 'test'], loc='upper right');"
      ],
      "execution_count": 23,
      "outputs": [
        {
          "output_type": "display_data",
          "data": {
            "image/png": "[encoded data removed]",
            "text/plain": [
              "<Figure size 1008x576 with 1 Axes>"
            ]
          },
          "metadata": {
            "tags": []
          }
        }
      ]
    },
    {
      "metadata": {
        "id": "bHd6w3z_ZnD3",
        "colab_type": "code",
        "outputId": "27b42f47-16d3-4fbc-c0e2-127ad2cc9cfc",
        "colab": {
          "base_uri": "https://localhost:8080/",
          "height": 297
        }
      },
      "cell_type": "code",
      "source": [
        "predictions = autoencoder.predict(X_test)\n",
        "mse = np.mean(np.power(X_test - predictions, 2), axis=1)\n",
        "error_df = pd.DataFrame({'reconstruction_error': mse,\n",
        "                        'true_class': y_test})\n",
        "error_df.describe()"
      ],
      "execution_count": 24,
      "outputs": [
        {
          "output_type": "execute_result",
          "data": {
            "text/html": [
              "<div>\n",
              "<style scoped>\n",
              "    .dataframe tbody tr th:only-of-type {\n",
              "        vertical-align: middle;\n",
              "    }\n",
              "\n",
              "    .dataframe tbody tr th {\n",
              "        vertical-align: top;\n",
              "    }\n",
              "\n",
              "    .dataframe thead th {\n",
              "        text-align: right;\n",
              "    }\n",
              "</style>\n",
              "<table border=\"1\" class=\"dataframe\">\n",
              "  <thead>\n",
              "    <tr style=\"text-align: right;\">\n",
              "      <th></th>\n",
              "      <th>reconstruction_error</th>\n",
              "      <th>true_class</th>\n",
              "    </tr>\n",
              "  </thead>\n",
              "  <tbody>\n",
              "    <tr>\n",
              "      <th>count</th>\n",
              "      <td>56962.000000</td>\n",
              "      <td>56962.000000</td>\n",
              "    </tr>\n",
              "    <tr>\n",
              "      <th>mean</th>\n",
              "      <td>0.656207</td>\n",
              "      <td>0.001720</td>\n",
              "    </tr>\n",
              "    <tr>\n",
              "      <th>std</th>\n",
              "      <td>3.391434</td>\n",
              "      <td>0.041443</td>\n",
              "    </tr>\n",
              "    <tr>\n",
              "      <th>min</th>\n",
              "      <td>0.027668</td>\n",
              "      <td>0.000000</td>\n",
              "    </tr>\n",
              "    <tr>\n",
              "      <th>25%</th>\n",
              "      <td>0.192081</td>\n",
              "      <td>0.000000</td>\n",
              "    </tr>\n",
              "    <tr>\n",
              "      <th>50%</th>\n",
              "      <td>0.329324</td>\n",
              "      <td>0.000000</td>\n",
              "    </tr>\n",
              "    <tr>\n",
              "      <th>75%</th>\n",
              "      <td>0.540534</td>\n",
              "      <td>0.000000</td>\n",
              "    </tr>\n",
              "    <tr>\n",
              "      <th>max</th>\n",
              "      <td>274.806840</td>\n",
              "      <td>1.000000</td>\n",
              "    </tr>\n",
              "  </tbody>\n",
              "</table>\n",
              "</div>"
            ],
            "text/plain": [
              "       reconstruction_error    true_class\n",
              "count          56962.000000  56962.000000\n",
              "mean               0.656207      0.001720\n",
              "std                3.391434      0.041443\n",
              "min                0.027668      0.000000\n",
              "25%                0.192081      0.000000\n",
              "50%                0.329324      0.000000\n",
              "75%                0.540534      0.000000\n",
              "max              274.806840      1.000000"
            ]
          },
          "metadata": {
            "tags": []
          },
          "execution_count": 24
        }
      ]
    },
    {
      "metadata": {
        "id": "JDkveaYcarHu",
        "colab_type": "code",
        "outputId": "318c9031-0ffb-4d8b-a042-d101e93b1609",
        "colab": {
          "base_uri": "https://localhost:8080/",
          "height": 525
        }
      },
      "cell_type": "code",
      "source": [
        "from sklearn.metrics import (confusion_matrix, precision_recall_curve, auc,\n",
        "                             roc_curve, recall_score, classification_report, f1_score,\n",
        "                             precision_recall_fscore_support)\n",
        "precision, recall, th = precision_recall_curve(error_df.true_class, error_df.reconstruction_error)\n",
        "plt.plot(recall, precision, 'b', label='Precision-Recall curve')\n",
        "plt.title('Recall vs Precision')\n",
        "plt.xlabel('Recall')\n",
        "plt.ylabel('Precision')\n",
        "plt.show()"
      ],
      "execution_count": 16,
      "outputs": [
        {
          "output_type": "display_data",
          "data": {
            "image/png": "[encoded data removed]",
            "text/plain": [
              "<Figure size 1008x576 with 1 Axes>"
            ]
          },
          "metadata": {
            "tags": []
          }
        }
      ]
    },
    {
      "metadata": {
        "id": "YA4yTiDDbTwf",
        "colab_type": "code",
        "outputId": "5c79de3a-e4b8-4d1a-e01b-4dfa07f943fc",
        "colab": {
          "base_uri": "https://localhost:8080/",
          "height": 742
        }
      },
      "cell_type": "code",
      "source": [
        "threshold = 2.9\n",
        "y_pred = [1 if e > threshold else 0 for e in error_df.reconstruction_error.values]\n",
        "conf_matrix = confusion_matrix(error_df.true_class, y_pred)\n",
        "plt.figure(figsize=(12, 12))\n",
        "sns.heatmap(conf_matrix, xticklabels=LABELS, yticklabels=LABELS, annot=True, fmt=\"d\");\n",
        "plt.title(\"Confusion matrix\")\n",
        "plt.ylabel('True class')\n",
        "plt.xlabel('Predicted class')\n",
        "plt.show()"
      ],
      "execution_count": 25,
      "outputs": [
        {
          "output_type": "display_data",
          "data": {
            "image/png": "[encoded data removed]",
            "text/plain": [
              "<Figure size 864x864 with 2 Axes>"
            ]
          },
          "metadata": {
            "tags": []
          }
        }
      ]
    },
    {
      "metadata": {
        "id": "_UTM2kQCbcyR",
        "colab_type": "code",
        "outputId": "b1bd647b-3e05-4b1d-f6de-80118dd0b6e0",
        "colab": {
          "base_uri": "https://localhost:8080/",
          "height": 742
        }
      },
      "cell_type": "code",
      "source": [
        "threshold = 3\n",
        "y_pred = [1 if e > threshold else 0 for e in error_df.reconstruction_error.values]\n",
        "conf_matrix = confusion_matrix(error_df.true_class, y_pred)\n",
        "plt.figure(figsize=(12, 12))\n",
        "sns.heatmap(conf_matrix, xticklabels=LABELS, yticklabels=LABELS, annot=True, fmt=\"d\");\n",
        "plt.title(\"Confusion matrix\")\n",
        "plt.ylabel('True class')\n",
        "plt.xlabel('Predicted class')\n",
        "plt.show()"
      ],
      "execution_count": 0,
      "outputs": [
        {
          "output_type": "display_data",
          "data": {
            "image/png": "[encoded data removed]",
            "text/plain": [
              "<Figure size 864x864 with 2 Axes>"
            ]
          },
          "metadata": {
            "tags": []
          }
        }
      ]
    },
    {
      "metadata": {
        "id": "xqmzRbtpeOS6",
        "colab_type": "text"
      },
      "cell_type": "markdown",
      "source": [
        "Different Thresold which based upon the business we can give"
      ]
    },
    {
      "metadata": {
        "id": "kNF-uZzasG-w",
        "colab_type": "text"
      },
      "cell_type": "markdown",
      "source": [
        ""
      ]
    }
  ]
}