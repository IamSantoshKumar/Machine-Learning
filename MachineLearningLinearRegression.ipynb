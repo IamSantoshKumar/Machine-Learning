{
  "nbformat": 4,
  "nbformat_minor": 0,
  "metadata": {
    "colab": {
      "name": "MachineLearning.ipynb",
      "version": "0.3.2",
      "provenance": [],
      "include_colab_link": true
    },
    "kernelspec": {
      "name": "python3",
      "display_name": "Python 3"
    },
    "accelerator": "GPU"
  },
  "cells": [
    {
      "cell_type": "markdown",
      "metadata": {
        "id": "view-in-github",
        "colab_type": "text"
      },
      "source": [
        "<a href=\"https://colab.research.google.com/github/santhosh2551991/Perumagalur/blob/master/MachineLearningLinearRegression.ipynb\" target=\"_parent\"><img src=\"https://colab.research.google.com/assets/colab-badge.svg\" alt=\"Open In Colab\"/></a>"
      ]
    },
    {
      "metadata": {
        "id": "CN-8vMVQgawZ",
        "colab_type": "code",
        "outputId": "c03744b2-7624-4cba-9e04-471922677968",
        "colab": {
          "base_uri": "https://localhost:8080/",
          "height": 343
        }
      },
      "cell_type": "code",
      "source": [
        "!pip install gensim"
      ],
      "execution_count": 0,
      "outputs": [
        {
          "output_type": "stream",
          "text": [
            "Requirement already satisfied: gensim in /usr/local/lib/python3.6/dist-packages (3.6.0)\n",
            "Requirement already satisfied: numpy>=1.11.3 in /usr/local/lib/python3.6/dist-packages (from gensim) (1.14.6)\n",
            "Requirement already satisfied: smart-open>=1.2.1 in /usr/local/lib/python3.6/dist-packages (from gensim) (1.8.0)\n",
            "Requirement already satisfied: six>=1.5.0 in /usr/local/lib/python3.6/dist-packages (from gensim) (1.11.0)\n",
            "Requirement already satisfied: scipy>=0.18.1 in /usr/local/lib/python3.6/dist-packages (from gensim) (1.1.0)\n",
            "Requirement already satisfied: boto>=2.32 in /usr/local/lib/python3.6/dist-packages (from smart-open>=1.2.1->gensim) (2.49.0)\n",
            "Requirement already satisfied: bz2file in /usr/local/lib/python3.6/dist-packages (from smart-open>=1.2.1->gensim) (0.98)\n",
            "Requirement already satisfied: requests in /usr/local/lib/python3.6/dist-packages (from smart-open>=1.2.1->gensim) (2.18.4)\n",
            "Requirement already satisfied: boto3 in /usr/local/lib/python3.6/dist-packages (from smart-open>=1.2.1->gensim) (1.9.90)\n",
            "Requirement already satisfied: chardet<3.1.0,>=3.0.2 in /usr/local/lib/python3.6/dist-packages (from requests->smart-open>=1.2.1->gensim) (3.0.4)\n",
            "Requirement already satisfied: urllib3<1.23,>=1.21.1 in /usr/local/lib/python3.6/dist-packages (from requests->smart-open>=1.2.1->gensim) (1.22)\n",
            "Requirement already satisfied: idna<2.7,>=2.5 in /usr/local/lib/python3.6/dist-packages (from requests->smart-open>=1.2.1->gensim) (2.6)\n",
            "Requirement already satisfied: certifi>=2017.4.17 in /usr/local/lib/python3.6/dist-packages (from requests->smart-open>=1.2.1->gensim) (2018.11.29)\n",
            "Requirement already satisfied: s3transfer<0.3.0,>=0.2.0 in /usr/local/lib/python3.6/dist-packages (from boto3->smart-open>=1.2.1->gensim) (0.2.0)\n",
            "Requirement already satisfied: jmespath<1.0.0,>=0.7.1 in /usr/local/lib/python3.6/dist-packages (from boto3->smart-open>=1.2.1->gensim) (0.9.3)\n",
            "Requirement already satisfied: botocore<1.13.0,>=1.12.90 in /usr/local/lib/python3.6/dist-packages (from boto3->smart-open>=1.2.1->gensim) (1.12.90)\n",
            "Requirement already satisfied: python-dateutil<3.0.0,>=2.1; python_version >= \"2.7\" in /usr/local/lib/python3.6/dist-packages (from botocore<1.13.0,>=1.12.90->boto3->smart-open>=1.2.1->gensim) (2.5.3)\n",
            "Requirement already satisfied: docutils>=0.10 in /usr/local/lib/python3.6/dist-packages (from botocore<1.13.0,>=1.12.90->boto3->smart-open>=1.2.1->gensim) (0.14)\n"
          ],
          "name": "stdout"
        }
      ]
    },
    {
      "metadata": {
        "id": "JXpVcs-dyRUH",
        "colab_type": "code",
        "colab": {}
      },
      "cell_type": "code",
      "source": [
        "from gensim.models import Word2Vec"
      ],
      "execution_count": 0,
      "outputs": []
    },
    {
      "metadata": {
        "id": "SSNahYLTybXJ",
        "colab_type": "code",
        "colab": {}
      },
      "cell_type": "code",
      "source": [
        "sentences=[['this','is','first','statement'],['this','is','second','statement']]"
      ],
      "execution_count": 0,
      "outputs": []
    },
    {
      "metadata": {
        "id": "vDKHBMjMy1TW",
        "colab_type": "code",
        "outputId": "f165b26e-c721-4c72-edf5-5f9b0def2e31",
        "colab": {
          "base_uri": "https://localhost:8080/",
          "height": 401
        }
      },
      "cell_type": "code",
      "source": [
        "from gensim.models import Word2Vec\n",
        "from sklearn.decomposition import PCA\n",
        "from matplotlib import pyplot\n",
        "# define training data\n",
        "sentences = [['this', 'is', 'the', 'first', 'sentence', 'for', 'word2vec'],\n",
        "\t\t\t['this', 'is', 'the', 'second', 'sentence'],\n",
        "\t\t\t['yet', 'another', 'sentence'],\n",
        "\t\t\t['one', 'more', 'sentence'],\n",
        "\t\t\t['and', 'the', 'final', 'sentence']]\n",
        "# train model\n",
        "model = Word2Vec(sentences, min_count=1)\n",
        "# fit a 2d PCA model to the vectors\n",
        "X = model[model.wv.vocab]\n",
        "pca = PCA(n_components=2)\n",
        "result = pca.fit_transform(X)\n",
        "# create a scatter plot of the projection\n",
        "pyplot.scatter(result[:, 0], result[:, 1])\n",
        "words = list(model.wv.vocab)\n",
        "for i, word in enumerate(words):\n",
        "\tpyplot.annotate(word, xy=(result[i, 0], result[i, 1]))\n",
        "pyplot.show()\n"
      ],
      "execution_count": 0,
      "outputs": [
        {
          "output_type": "stream",
          "text": [
            "/usr/local/lib/python3.6/dist-packages/ipykernel_launcher.py:13: DeprecationWarning: Call to deprecated `__getitem__` (Method will be removed in 4.0.0, use self.wv.__getitem__() instead).\n",
            "  del sys.path[0]\n"
          ],
          "name": "stderr"
        },
        {
          "output_type": "display_data",
          "data": {
            "image/png": "[encoded data removed]",
            "text/plain": [
              "<Figure size 576x396 with 1 Axes>"
            ]
          },
          "metadata": {
            "tags": []
          }
        }
      ]
    },
    {
      "metadata": {
        "id": "N5PW4LP354PN",
        "colab_type": "code",
        "outputId": "a39e8113-1edf-41fa-9031-45479aa6a9e5",
        "colab": {
          "resources": {
            "http://localhost:8080/nbextensions/google.colab/files.js": {
              "data": "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",
              "ok": true,
              "headers": [
                [
                  "content-type",
                  "application/javascript"
                ]
              ],
              "status": 200,
              "status_text": ""
            }
          },
          "base_uri": "https://localhost:8080/",
          "height": 71
        }
      },
      "cell_type": "code",
      "source": [
        "from google.colab import files\n",
        "uploaded = files.upload()\n"
      ],
      "execution_count": 0,
      "outputs": [
        {
          "output_type": "display_data",
          "data": {
            "text/html": [
              "\n",
              "     <input type=\"file\" id=\"files-ffac18d0-be82-417c-9364-028088811a43\" name=\"files[]\" multiple disabled />\n",
              "     <output id=\"result-ffac18d0-be82-417c-9364-028088811a43\">\n",
              "      Upload widget is only available when the cell has been executed in the\n",
              "      current browser session. Please rerun this cell to enable.\n",
              "      </output>\n",
              "      <script src=\"/nbextensions/google.colab/files.js\"></script> "
            ],
            "text/plain": [
              "<IPython.core.display.HTML object>"
            ]
          },
          "metadata": {
            "tags": []
          }
        },
        {
          "output_type": "stream",
          "text": [
            "Saving GOOG (3).csv to GOOG (3).csv\n"
          ],
          "name": "stdout"
        }
      ]
    },
    {
      "metadata": {
        "id": "uVHc6lcDLRuD",
        "colab_type": "code",
        "outputId": "40ce15a5-fcb5-41f5-9c9c-6561a69ae2d2",
        "colab": {
          "base_uri": "https://localhost:8080/",
          "height": 649
        }
      },
      "cell_type": "code",
      "source": [
        "from google.colab import drive\n",
        "drive.mount(\"/content/drive\",force_remount=True)\n",
        "!ls \"/content/drive/My Drive\"\n"
      ],
      "execution_count": 1,
      "outputs": [
        {
          "output_type": "stream",
          "text": [
            "Go to this URL in a browser: https://accounts.google.com/o/oauth2/auth?client_id=947318989803-6bn6qk8qdgf4n4g3pfee6491hc0brc4i.apps.googleusercontent.com&redirect_uri=urn%3Aietf%3Awg%3Aoauth%3A2.0%3Aoob&scope=email%20https%3A%2F%2Fwww.googleapis.com%2Fauth%2Fdocs.test%20https%3A%2F%2Fwww.googleapis.com%2Fauth%2Fdrive%20https%3A%2F%2Fwww.googleapis.com%2Fauth%2Fdrive.photos.readonly%20https%3A%2F%2Fwww.googleapis.com%2Fauth%2Fpeopleapi.readonly&response_type=code\n",
            "\n",
            "Enter your authorization code:\n",
            "··········\n",
            "Mounted at /content/drive\n",
            " 01.jpg\n",
            " 987.jpg\n",
            "'Apache Hive Cookbook.pdf'\n",
            "'Colab Notebooks'\n",
            " Data\n",
            " e-books\n",
            " FB_IMG_1441862195824.jpg\n",
            " HDFS_AS_COMICS.pdf\n",
            " Hive\n",
            " hive_f_e_modes_str_date_functions.txt\n",
            " Hive_optimization.txt\n",
            " import_mapreduce_project_into_eclipse.mp4\n",
            " Inceptez_Banking_insurance_project2-20190209T152906Z-001.zip\n",
            " Inceptez_Datalake_Projec3.rar\n",
            " Inceptez_sentiment_project1.tar.gz\n",
            " metabook.txt\n",
            " MR-Workouts\n",
            " notes.docx\n",
            " notes.txt\n",
            " OOZIE\n",
            " Orginal.csv\n",
            " Pig\n",
            " RegNo_20302460.pdf\n",
            " sample.csv\n",
            " santi.docx\n",
            " Shanvsanthosh.gdoc\n",
            " shopping_data.gsheet\n",
            " Sqoop\n",
            " sqoopusecases.txt\n",
            "'srini resume.docx'\n",
            "'SSRS Tutorial 58 - Creating Tabs in SSRS Report - YouTube'\n"
          ],
          "name": "stdout"
        }
      ]
    },
    {
      "metadata": {
        "id": "9NFRVc3Nq282",
        "colab_type": "code",
        "outputId": "049390c7-ab2c-4fed-8a28-d891db1137ac",
        "colab": {
          "base_uri": "https://localhost:8080/",
          "height": 51
        }
      },
      "cell_type": "code",
      "source": [
        "!unzip telco-customer-churn.zip"
      ],
      "execution_count": 0,
      "outputs": [
        {
          "output_type": "stream",
          "text": [
            "Archive:  telco-customer-churn.zip\n",
            "  inflating: WA_Fn-UseC_-Telco-Customer-Churn.csv  \n"
          ],
          "name": "stdout"
        }
      ]
    },
    {
      "metadata": {
        "id": "xTRvub_HrJcL",
        "colab_type": "code",
        "outputId": "a1cdb41d-bcdf-4bd1-ef63-b8bb6f9fcd7f",
        "colab": {
          "base_uri": "https://localhost:8080/",
          "height": 51
        }
      },
      "cell_type": "code",
      "source": [
        "!ls"
      ],
      "execution_count": 0,
      "outputs": [
        {
          "output_type": "stream",
          "text": [
            "drive\t     telco-customer-churn.zip\n",
            "sample_data  WA_Fn-UseC_-Telco-Customer-Churn.csv\n"
          ],
          "name": "stdout"
        }
      ]
    },
    {
      "metadata": {
        "id": "6mXi4hC3eOO_",
        "colab_type": "text"
      },
      "cell_type": "markdown",
      "source": [
        ""
      ]
    },
    {
      "metadata": {
        "id": "xSj2V5TWCT7x",
        "colab_type": "code",
        "outputId": "4f6a4dd0-5307-4d71-ae65-813639cac164",
        "colab": {
          "base_uri": "https://localhost:8080/",
          "height": 595
        }
      },
      "cell_type": "code",
      "source": [
        "import pandas as pd\n",
        "df=pd.read_csv('/content/drive/My Drive/Orginal.csv')\n",
        "from sklearn import preprocessing\n",
        "from sklearn.preprocessing import OneHotEncoder,LabelEncoder\n",
        "label_encoder = LabelEncoder()\n",
        "#df.to_csv('/content/drive/My Drive/Orginal.csv',index=False)\n",
        "df.drop(['customerID'], axis=1, inplace=True)\n",
        "df['gender']= label_encoder.fit_transform(df['gender'])\n",
        "df['Partner']= label_encoder.fit_transform(df['Partner'])\n",
        "df['Dependents']= label_encoder.fit_transform(df['Dependents'])\n",
        "df['PhoneService']= label_encoder.fit_transform(df['PhoneService'])\n",
        "df = pd.concat([df,pd.get_dummies(df['MultipleLines'],prefix='MultipleLines')],axis=1)\n",
        "df.drop(['MultipleLines'],axis=1, inplace=True)\n",
        "df = pd.concat([df,pd.get_dummies(df['InternetService'],prefix='InternetService')],axis=1)\n",
        "df.drop(['InternetService'],axis=1, inplace=True)\n",
        "df['OnlineSecurity']= label_encoder.fit_transform(df['OnlineSecurity'])\n",
        "df['OnlineBackup']= label_encoder.fit_transform(df['OnlineBackup'])\n",
        "df['DeviceProtection']= label_encoder.fit_transform(df['DeviceProtection'])\n",
        "df['TechSupport']= label_encoder.fit_transform(df['TechSupport'])\n",
        "df = pd.concat([df,pd.get_dummies(df['PaymentMethod'],prefix='PaymentMethod')],axis=1)\n",
        "df.drop(['PaymentMethod'],axis=1, inplace=True)\n",
        "df = pd.concat([df,pd.get_dummies(df['StreamingTV'],prefix='StreamingTV')],axis=1)\n",
        "df.drop(['StreamingTV'],axis=1, inplace=True)\n",
        "df = pd.concat([df,pd.get_dummies(df['StreamingMovies'],prefix='StreamingMovies')],axis=1)\n",
        "df.drop(['StreamingMovies'],axis=1, inplace=True)\n",
        "df = pd.concat([df,pd.get_dummies(df['Contract'],prefix='Contract')],axis=1)\n",
        "df.drop(['Contract'],axis=1, inplace=True)\n",
        "df['PaperlessBilling']= label_encoder.fit_transform(df['PaperlessBilling'])\n",
        "df['TotalCharges']=df['TotalCharges'].apply(lambda x: 0 if x == ' ' else x)\n",
        "df['TotalCharges'] = pd.to_numeric(df['TotalCharges'])\n",
        "df['MonthlyCharges'] = pd.to_numeric(df['MonthlyCharges'])\n",
        "df['Churn']= label_encoder.fit_transform(df['Churn'])\n",
        "df1=df[df.Churn==0]\n",
        "df1.count()"
      ],
      "execution_count": 32,
      "outputs": [
        {
          "output_type": "execute_result",
          "data": {
            "text/plain": [
              "gender                                     5174\n",
              "SeniorCitizen                              5174\n",
              "Partner                                    5174\n",
              "Dependents                                 5174\n",
              "tenure                                     5174\n",
              "PhoneService                               5174\n",
              "OnlineSecurity                             5174\n",
              "OnlineBackup                               5174\n",
              "DeviceProtection                           5174\n",
              "TechSupport                                5174\n",
              "PaperlessBilling                           5174\n",
              "MonthlyCharges                             5174\n",
              "TotalCharges                               5174\n",
              "Churn                                      5174\n",
              "MultipleLines_No                           5174\n",
              "MultipleLines_No phone service             5174\n",
              "MultipleLines_Yes                          5174\n",
              "InternetService_DSL                        5174\n",
              "InternetService_Fiber optic                5174\n",
              "InternetService_No                         5174\n",
              "PaymentMethod_Bank transfer (automatic)    5174\n",
              "PaymentMethod_Credit card (automatic)      5174\n",
              "PaymentMethod_Electronic check             5174\n",
              "PaymentMethod_Mailed check                 5174\n",
              "StreamingTV_No                             5174\n",
              "StreamingTV_No internet service            5174\n",
              "StreamingTV_Yes                            5174\n",
              "StreamingMovies_No                         5174\n",
              "StreamingMovies_No internet service        5174\n",
              "StreamingMovies_Yes                        5174\n",
              "Contract_Month-to-month                    5174\n",
              "Contract_One year                          5174\n",
              "Contract_Two year                          5174\n",
              "dtype: int64"
            ]
          },
          "metadata": {
            "tags": []
          },
          "execution_count": 32
        }
      ]
    },
    {
      "metadata": {
        "id": "DA4EXAtJePy5",
        "colab_type": "code",
        "colab": {}
      },
      "cell_type": "code",
      "source": [
        ""
      ],
      "execution_count": 0,
      "outputs": []
    },
    {
      "metadata": {
        "id": "DHvAvRHI-3X4",
        "colab_type": "code",
        "colab": {}
      },
      "cell_type": "code",
      "source": [
        "x=df.loc[:, df.columns != 'Churn']\n",
        "y=df.loc[:, df.columns == 'Churn']\n",
        "x=x.values\n",
        "y=y.values\n"
      ],
      "execution_count": 0,
      "outputs": []
    },
    {
      "metadata": {
        "id": "SZF2bZDUXV4M",
        "colab_type": "code",
        "outputId": "42549401-9e20-4e2d-ef81-01b221673222",
        "colab": {
          "base_uri": "https://localhost:8080/",
          "height": 5168
        }
      },
      "cell_type": "code",
      "source": [
        "from keras.models import Sequential\n",
        "from keras.layers import LSTM, Dense\n",
        "from sklearn import datasets\n",
        "import numpy \n",
        "from sklearn.model_selection import train_test_split\n",
        "xTrain, xTest, yTrain, yTest = train_test_split(x, y, test_size = 0.3, random_state = 1)\n",
        "#numpy.random.seed[7]\n",
        "#dataset=datasets.load_boston()\n",
        "#x_train=dataset[:,0:8]\n",
        "#y_train=dataset[:,8]\n",
        "#dataset\n",
        "# expected input data shape: (batch_size, timesteps, data_dim)\n",
        "model = Sequential()\n",
        "model.add(Dense(128,input_dim=32,activation='relu'))\n",
        "model.add(Dense(64,activation='relu'))\n",
        "model.add(Dense(32,activation='relu'))\n",
        "model.add(Dense(16,activation='relu'))\n",
        "model.add(Dense(1,activation='sigmoid'))\n",
        "model.compile(loss='binary_crossentropy',optimizer='adam',metrics=['accuracy'])\n",
        "model.fit(xTrain, yTrain,batch_size=5, epochs=150)\n",
        "scores=model.evaluate(xTrain,yTrain)\n",
        "print(\"\\n%s: %.2f%%\" %(model.metrics_names[1],scores[1]*100))"
      ],
      "execution_count": 21,
      "outputs": [
        {
          "output_type": "stream",
          "text": [
            "Epoch 1/150\n",
            "4930/4930 [==============================] - 6s 1ms/step - loss: 4.0631 - acc: 0.6517\n",
            "Epoch 2/150\n",
            "4930/4930 [==============================] - 5s 1ms/step - loss: 1.9697 - acc: 0.7294\n",
            "Epoch 3/150\n",
            "4930/4930 [==============================] - 6s 1ms/step - loss: 0.5602 - acc: 0.7684\n",
            "Epoch 4/150\n",
            "4930/4930 [==============================] - 6s 1ms/step - loss: 0.5346 - acc: 0.7677\n",
            "Epoch 5/150\n",
            "4930/4930 [==============================] - 6s 1ms/step - loss: 0.5304 - acc: 0.7673\n",
            "Epoch 6/150\n",
            "4930/4930 [==============================] - 5s 1ms/step - loss: 0.5244 - acc: 0.7718\n",
            "Epoch 7/150\n",
            "4930/4930 [==============================] - 6s 1ms/step - loss: 0.5202 - acc: 0.7700\n",
            "Epoch 8/150\n",
            "4930/4930 [==============================] - 6s 1ms/step - loss: 0.5174 - acc: 0.7698\n",
            "Epoch 9/150\n",
            "4930/4930 [==============================] - 6s 1ms/step - loss: 0.5027 - acc: 0.7744\n",
            "Epoch 10/150\n",
            "4930/4930 [==============================] - 6s 1ms/step - loss: 0.4997 - acc: 0.7795\n",
            "Epoch 11/150\n",
            "4930/4930 [==============================] - 5s 1ms/step - loss: 0.4987 - acc: 0.7797\n",
            "Epoch 12/150\n",
            "4930/4930 [==============================] - 6s 1ms/step - loss: 0.4857 - acc: 0.7783\n",
            "Epoch 13/150\n",
            "4930/4930 [==============================] - 5s 1ms/step - loss: 0.4797 - acc: 0.7815\n",
            "Epoch 14/150\n",
            "4930/4930 [==============================] - 5s 1ms/step - loss: 0.4813 - acc: 0.7781\n",
            "Epoch 15/150\n",
            "4930/4930 [==============================] - 5s 1ms/step - loss: 0.4792 - acc: 0.7791\n",
            "Epoch 16/150\n",
            "4930/4930 [==============================] - 6s 1ms/step - loss: 0.4676 - acc: 0.7844\n",
            "Epoch 17/150\n",
            "4930/4930 [==============================] - 5s 1ms/step - loss: 0.4632 - acc: 0.7897\n",
            "Epoch 18/150\n",
            "4930/4930 [==============================] - 5s 1ms/step - loss: 0.4669 - acc: 0.7880\n",
            "Epoch 19/150\n",
            "4930/4930 [==============================] - 5s 1ms/step - loss: 0.4609 - acc: 0.7872\n",
            "Epoch 20/150\n",
            "4930/4930 [==============================] - 5s 1ms/step - loss: 0.4581 - acc: 0.7937\n",
            "Epoch 21/150\n",
            "4930/4930 [==============================] - 5s 1ms/step - loss: 0.4537 - acc: 0.7905\n",
            "Epoch 22/150\n",
            "4930/4930 [==============================] - 5s 1ms/step - loss: 0.4548 - acc: 0.7895\n",
            "Epoch 23/150\n",
            "4930/4930 [==============================] - 5s 1ms/step - loss: 0.4575 - acc: 0.7931\n",
            "Epoch 24/150\n",
            "4930/4930 [==============================] - 5s 1ms/step - loss: 0.4538 - acc: 0.7907\n",
            "Epoch 25/150\n",
            "4930/4930 [==============================] - 5s 1ms/step - loss: 0.4646 - acc: 0.7941\n",
            "Epoch 26/150\n",
            "4930/4930 [==============================] - 5s 1ms/step - loss: 0.4538 - acc: 0.7895\n",
            "Epoch 27/150\n",
            "4930/4930 [==============================] - 5s 1ms/step - loss: 0.4489 - acc: 0.7917\n",
            "Epoch 28/150\n",
            "4930/4930 [==============================] - 5s 1ms/step - loss: 0.4502 - acc: 0.7895\n",
            "Epoch 29/150\n",
            "4930/4930 [==============================] - 5s 1ms/step - loss: 0.4463 - acc: 0.7895\n",
            "Epoch 30/150\n",
            "4930/4930 [==============================] - 5s 1ms/step - loss: 0.4385 - acc: 0.7907\n",
            "Epoch 31/150\n",
            "4930/4930 [==============================] - 5s 1ms/step - loss: 0.4406 - acc: 0.7957\n",
            "Epoch 32/150\n",
            "4930/4930 [==============================] - 5s 1ms/step - loss: 0.4493 - acc: 0.7929\n",
            "Epoch 33/150\n",
            "4930/4930 [==============================] - 5s 1ms/step - loss: 0.4467 - acc: 0.7921\n",
            "Epoch 34/150\n",
            "4930/4930 [==============================] - 5s 1ms/step - loss: 0.4374 - acc: 0.7986\n",
            "Epoch 35/150\n",
            "4930/4930 [==============================] - 5s 1ms/step - loss: 0.4429 - acc: 0.7903\n",
            "Epoch 36/150\n",
            "4930/4930 [==============================] - 6s 1ms/step - loss: 0.4381 - acc: 0.7970\n",
            "Epoch 37/150\n",
            "4930/4930 [==============================] - 5s 1ms/step - loss: 0.4351 - acc: 0.7957\n",
            "Epoch 38/150\n",
            "4930/4930 [==============================] - 6s 1ms/step - loss: 0.4376 - acc: 0.7959\n",
            "Epoch 39/150\n",
            "4930/4930 [==============================] - 5s 1ms/step - loss: 0.4363 - acc: 0.8000\n",
            "Epoch 40/150\n",
            "4930/4930 [==============================] - 5s 1ms/step - loss: 0.4395 - acc: 0.7978\n",
            "Epoch 41/150\n",
            "4930/4930 [==============================] - 5s 1ms/step - loss: 0.4347 - acc: 0.7955\n",
            "Epoch 42/150\n",
            "4930/4930 [==============================] - 6s 1ms/step - loss: 0.4367 - acc: 0.7976\n",
            "Epoch 43/150\n",
            "4930/4930 [==============================] - 5s 1ms/step - loss: 0.4358 - acc: 0.7951\n",
            "Epoch 44/150\n",
            "4930/4930 [==============================] - 5s 1ms/step - loss: 0.4337 - acc: 0.7963\n",
            "Epoch 45/150\n",
            "4930/4930 [==============================] - 5s 1ms/step - loss: 0.4335 - acc: 0.8018\n",
            "Epoch 46/150\n",
            "4930/4930 [==============================] - 5s 1ms/step - loss: 0.4333 - acc: 0.7939\n",
            "Epoch 47/150\n",
            "4930/4930 [==============================] - 5s 1ms/step - loss: 0.4393 - acc: 0.7976\n",
            "Epoch 48/150\n",
            "4930/4930 [==============================] - 5s 1ms/step - loss: 0.4340 - acc: 0.7949\n",
            "Epoch 49/150\n",
            "4930/4930 [==============================] - 6s 1ms/step - loss: 0.4289 - acc: 0.8026\n",
            "Epoch 50/150\n",
            "4930/4930 [==============================] - 5s 1ms/step - loss: 0.4339 - acc: 0.7992\n",
            "Epoch 51/150\n",
            "4930/4930 [==============================] - 5s 1ms/step - loss: 0.4333 - acc: 0.8039\n",
            "Epoch 52/150\n",
            "4930/4930 [==============================] - 6s 1ms/step - loss: 0.4325 - acc: 0.7957\n",
            "Epoch 53/150\n",
            "4930/4930 [==============================] - 5s 1ms/step - loss: 0.4341 - acc: 0.7976\n",
            "Epoch 54/150\n",
            "4930/4930 [==============================] - 5s 1ms/step - loss: 0.4298 - acc: 0.7996\n",
            "Epoch 55/150\n",
            "4930/4930 [==============================] - 5s 1ms/step - loss: 0.4286 - acc: 0.8004\n",
            "Epoch 56/150\n",
            "4930/4930 [==============================] - 5s 1ms/step - loss: 0.4343 - acc: 0.8034\n",
            "Epoch 57/150\n",
            "4930/4930 [==============================] - 5s 1ms/step - loss: 0.4348 - acc: 0.7966\n",
            "Epoch 58/150\n",
            "4930/4930 [==============================] - 5s 1ms/step - loss: 0.4310 - acc: 0.8008\n",
            "Epoch 59/150\n",
            "4930/4930 [==============================] - 5s 1ms/step - loss: 0.4305 - acc: 0.8026\n",
            "Epoch 60/150\n",
            "4930/4930 [==============================] - 5s 1ms/step - loss: 0.4288 - acc: 0.8018\n",
            "Epoch 61/150\n",
            "4930/4930 [==============================] - 6s 1ms/step - loss: 0.4300 - acc: 0.7988\n",
            "Epoch 62/150\n",
            "4930/4930 [==============================] - 5s 1ms/step - loss: 0.4274 - acc: 0.8004\n",
            "Epoch 63/150\n",
            "4930/4930 [==============================] - 5s 1ms/step - loss: 0.4269 - acc: 0.8032\n",
            "Epoch 64/150\n",
            "4930/4930 [==============================] - 6s 1ms/step - loss: 0.4275 - acc: 0.8010\n",
            "Epoch 65/150\n",
            "4930/4930 [==============================] - 5s 1ms/step - loss: 0.4284 - acc: 0.8000\n",
            "Epoch 66/150\n",
            "4930/4930 [==============================] - 6s 1ms/step - loss: 0.4261 - acc: 0.8055\n",
            "Epoch 67/150\n",
            "4930/4930 [==============================] - 6s 1ms/step - loss: 0.4299 - acc: 0.7955\n",
            "Epoch 68/150\n",
            "4930/4930 [==============================] - 5s 1ms/step - loss: 0.4261 - acc: 0.8049\n",
            "Epoch 69/150\n",
            "4930/4930 [==============================] - 6s 1ms/step - loss: 0.4260 - acc: 0.8012\n",
            "Epoch 70/150\n",
            "4930/4930 [==============================] - 5s 1ms/step - loss: 0.4245 - acc: 0.8041\n",
            "Epoch 71/150\n",
            "4930/4930 [==============================] - 5s 1ms/step - loss: 0.4253 - acc: 0.8004\n",
            "Epoch 72/150\n",
            "4930/4930 [==============================] - 5s 1ms/step - loss: 0.4271 - acc: 0.7968\n",
            "Epoch 73/150\n",
            "4930/4930 [==============================] - 5s 1ms/step - loss: 0.4277 - acc: 0.7988\n",
            "Epoch 74/150\n",
            "4930/4930 [==============================] - 6s 1ms/step - loss: 0.4252 - acc: 0.8004\n",
            "Epoch 75/150\n",
            "4930/4930 [==============================] - 6s 1ms/step - loss: 0.4251 - acc: 0.8000\n",
            "Epoch 76/150\n",
            "4930/4930 [==============================] - 6s 1ms/step - loss: 0.4257 - acc: 0.7990\n",
            "Epoch 77/150\n",
            "4930/4930 [==============================] - 5s 1ms/step - loss: 0.4331 - acc: 0.8045\n",
            "Epoch 78/150\n",
            "4930/4930 [==============================] - 5s 1ms/step - loss: 0.4252 - acc: 0.8030\n",
            "Epoch 79/150\n",
            "4930/4930 [==============================] - 6s 1ms/step - loss: 0.4266 - acc: 0.8004\n",
            "Epoch 80/150\n",
            "4930/4930 [==============================] - 5s 1ms/step - loss: 0.4303 - acc: 0.8004\n",
            "Epoch 81/150\n",
            "4930/4930 [==============================] - 5s 1ms/step - loss: 0.4294 - acc: 0.8002\n",
            "Epoch 82/150\n",
            "4930/4930 [==============================] - 5s 1ms/step - loss: 0.4248 - acc: 0.8008\n",
            "Epoch 83/150\n",
            "4930/4930 [==============================] - 5s 1ms/step - loss: 0.4241 - acc: 0.8043\n",
            "Epoch 84/150\n",
            "4930/4930 [==============================] - 5s 1ms/step - loss: 0.4216 - acc: 0.8030\n",
            "Epoch 85/150\n",
            "4930/4930 [==============================] - 6s 1ms/step - loss: 0.4235 - acc: 0.8014\n",
            "Epoch 86/150\n",
            "4930/4930 [==============================] - 6s 1ms/step - loss: 0.4248 - acc: 0.8006\n",
            "Epoch 87/150\n",
            "4930/4930 [==============================] - 5s 1ms/step - loss: 0.4242 - acc: 0.8010\n",
            "Epoch 88/150\n",
            "4930/4930 [==============================] - 6s 1ms/step - loss: 0.4259 - acc: 0.8006\n",
            "Epoch 89/150\n",
            "4930/4930 [==============================] - 6s 1ms/step - loss: 0.4222 - acc: 0.8077\n",
            "Epoch 90/150\n",
            "4930/4930 [==============================] - 5s 1ms/step - loss: 0.4228 - acc: 0.8053\n",
            "Epoch 91/150\n",
            "4930/4930 [==============================] - 6s 1ms/step - loss: 0.4214 - acc: 0.8016\n",
            "Epoch 92/150\n",
            "4930/4930 [==============================] - 5s 1ms/step - loss: 0.4215 - acc: 0.8059\n",
            "Epoch 93/150\n",
            "4930/4930 [==============================] - 5s 1ms/step - loss: 0.4218 - acc: 0.8002\n",
            "Epoch 94/150\n",
            "4930/4930 [==============================] - 5s 1ms/step - loss: 0.4253 - acc: 0.8032\n",
            "Epoch 95/150\n",
            "4930/4930 [==============================] - 6s 1ms/step - loss: 0.4213 - acc: 0.8024\n",
            "Epoch 96/150\n",
            "4930/4930 [==============================] - 6s 1ms/step - loss: 0.4212 - acc: 0.8032\n",
            "Epoch 97/150\n",
            "4930/4930 [==============================] - 5s 1ms/step - loss: 0.4206 - acc: 0.8061\n",
            "Epoch 98/150\n",
            "4930/4930 [==============================] - 6s 1ms/step - loss: 0.4245 - acc: 0.8061\n",
            "Epoch 99/150\n",
            "4930/4930 [==============================] - 6s 1ms/step - loss: 0.4268 - acc: 0.8002\n",
            "Epoch 100/150\n",
            "4930/4930 [==============================] - 6s 1ms/step - loss: 0.4234 - acc: 0.8049\n",
            "Epoch 101/150\n",
            "4930/4930 [==============================] - 5s 1ms/step - loss: 0.4195 - acc: 0.8065\n",
            "Epoch 102/150\n",
            "4930/4930 [==============================] - 5s 1ms/step - loss: 0.4234 - acc: 0.8032\n",
            "Epoch 103/150\n",
            "4930/4930 [==============================] - 5s 1ms/step - loss: 0.4230 - acc: 0.7986\n",
            "Epoch 104/150\n",
            "4930/4930 [==============================] - 5s 1ms/step - loss: 0.4182 - acc: 0.8041\n",
            "Epoch 105/150\n",
            "4930/4930 [==============================] - 5s 1ms/step - loss: 0.4251 - acc: 0.8055\n",
            "Epoch 106/150\n",
            "4930/4930 [==============================] - 5s 1ms/step - loss: 0.4215 - acc: 0.8043\n",
            "Epoch 107/150\n",
            "4930/4930 [==============================] - 5s 1ms/step - loss: 0.4186 - acc: 0.8093\n",
            "Epoch 108/150\n",
            "4930/4930 [==============================] - 5s 1ms/step - loss: 0.4220 - acc: 0.8067\n",
            "Epoch 109/150\n",
            "4930/4930 [==============================] - 5s 1ms/step - loss: 0.4206 - acc: 0.8030\n",
            "Epoch 110/150\n",
            "4930/4930 [==============================] - 5s 1ms/step - loss: 0.4232 - acc: 0.8032\n",
            "Epoch 111/150\n",
            "4930/4930 [==============================] - 6s 1ms/step - loss: 0.4197 - acc: 0.8091\n",
            "Epoch 112/150\n",
            "4930/4930 [==============================] - 6s 1ms/step - loss: 0.4213 - acc: 0.8026\n",
            "Epoch 113/150\n",
            "4930/4930 [==============================] - 6s 1ms/step - loss: 0.4382 - acc: 0.8020\n",
            "Epoch 114/150\n",
            "4930/4930 [==============================] - 5s 1ms/step - loss: 0.4196 - acc: 0.8085\n",
            "Epoch 115/150\n",
            "4930/4930 [==============================] - 6s 1ms/step - loss: 0.4209 - acc: 0.8073\n",
            "Epoch 116/150\n",
            "4930/4930 [==============================] - 5s 1ms/step - loss: 0.4254 - acc: 0.8065\n",
            "Epoch 117/150\n",
            "4930/4930 [==============================] - 5s 1ms/step - loss: 0.4178 - acc: 0.8039\n",
            "Epoch 118/150\n",
            "4930/4930 [==============================] - 5s 1ms/step - loss: 0.4200 - acc: 0.8071\n",
            "Epoch 119/150\n",
            "4930/4930 [==============================] - 6s 1ms/step - loss: 0.4198 - acc: 0.8045\n",
            "Epoch 120/150\n",
            "4930/4930 [==============================] - 6s 1ms/step - loss: 0.4189 - acc: 0.8075\n",
            "Epoch 121/150\n",
            "4930/4930 [==============================] - 5s 1ms/step - loss: 0.4179 - acc: 0.8057\n",
            "Epoch 122/150\n",
            "4930/4930 [==============================] - 6s 1ms/step - loss: 0.4163 - acc: 0.8091\n",
            "Epoch 123/150\n",
            "4930/4930 [==============================] - 5s 1ms/step - loss: 0.4340 - acc: 0.8008\n",
            "Epoch 124/150\n",
            "4930/4930 [==============================] - 5s 1ms/step - loss: 0.4227 - acc: 0.8057\n",
            "Epoch 125/150\n",
            "4930/4930 [==============================] - 5s 1ms/step - loss: 0.4176 - acc: 0.8071\n",
            "Epoch 126/150\n",
            "4930/4930 [==============================] - 5s 1ms/step - loss: 0.4182 - acc: 0.8022\n",
            "Epoch 127/150\n",
            "4930/4930 [==============================] - 5s 1ms/step - loss: 0.4191 - acc: 0.8077\n",
            "Epoch 128/150\n",
            "4930/4930 [==============================] - 5s 1ms/step - loss: 0.4161 - acc: 0.8063\n",
            "Epoch 129/150\n",
            "4930/4930 [==============================] - 6s 1ms/step - loss: 0.4169 - acc: 0.8041\n",
            "Epoch 130/150\n",
            "4930/4930 [==============================] - 6s 1ms/step - loss: 0.4207 - acc: 0.8063\n",
            "Epoch 131/150\n",
            "4930/4930 [==============================] - 6s 1ms/step - loss: 0.4172 - acc: 0.8051\n",
            "Epoch 132/150\n",
            "4930/4930 [==============================] - 5s 1ms/step - loss: 0.4253 - acc: 0.8022\n",
            "Epoch 133/150\n",
            "4930/4930 [==============================] - 5s 1ms/step - loss: 0.4190 - acc: 0.8061\n",
            "Epoch 134/150\n",
            "4930/4930 [==============================] - 6s 1ms/step - loss: 0.4171 - acc: 0.8020\n",
            "Epoch 135/150\n",
            "4930/4930 [==============================] - 5s 1ms/step - loss: 0.4176 - acc: 0.8006\n",
            "Epoch 136/150\n",
            "4930/4930 [==============================] - 5s 1ms/step - loss: 0.4149 - acc: 0.8055\n",
            "Epoch 137/150\n",
            "4930/4930 [==============================] - 5s 1ms/step - loss: 0.4168 - acc: 0.8051\n",
            "Epoch 138/150\n",
            "4930/4930 [==============================] - 5s 1ms/step - loss: 0.4175 - acc: 0.8037\n",
            "Epoch 139/150\n",
            "4930/4930 [==============================] - 5s 1ms/step - loss: 0.4150 - acc: 0.8118\n",
            "Epoch 140/150\n",
            "4930/4930 [==============================] - 6s 1ms/step - loss: 0.4154 - acc: 0.8071\n",
            "Epoch 141/150\n",
            "4930/4930 [==============================] - 6s 1ms/step - loss: 0.4162 - acc: 0.8053\n",
            "Epoch 142/150\n",
            "4930/4930 [==============================] - 6s 1ms/step - loss: 0.4156 - acc: 0.8065\n",
            "Epoch 143/150\n",
            "4930/4930 [==============================] - 6s 1ms/step - loss: 0.4172 - acc: 0.8055\n",
            "Epoch 144/150\n",
            "4930/4930 [==============================] - 6s 1ms/step - loss: 0.4138 - acc: 0.8049\n",
            "Epoch 145/150\n",
            "4930/4930 [==============================] - 5s 1ms/step - loss: 0.4174 - acc: 0.8024\n",
            "Epoch 146/150\n",
            "4930/4930 [==============================] - 5s 1ms/step - loss: 0.4132 - acc: 0.8120\n",
            "Epoch 147/150\n",
            "4930/4930 [==============================] - 5s 1ms/step - loss: 0.4261 - acc: 0.7982\n",
            "Epoch 148/150\n",
            "4930/4930 [==============================] - 5s 1ms/step - loss: 0.4163 - acc: 0.8089\n",
            "Epoch 149/150\n",
            "4930/4930 [==============================] - 5s 1ms/step - loss: 0.4209 - acc: 0.8051\n",
            "Epoch 150/150\n",
            "4930/4930 [==============================] - 5s 1ms/step - loss: 0.4110 - acc: 0.8083\n",
            "4930/4930 [==============================] - 0s 80us/step\n",
            "\n",
            "acc: 79.98%\n"
          ],
          "name": "stdout"
        }
      ]
    },
    {
      "metadata": {
        "id": "zmBG4z5pgzVC",
        "colab_type": "code",
        "outputId": "bc01ec39-e609-4620-b2d1-49ca226dcfd3",
        "colab": {
          "base_uri": "https://localhost:8080/",
          "height": 122
        }
      },
      "cell_type": "code",
      "source": [
        "import numpy as np\n",
        "predicted=model.predict(xTest)\n",
        "np.mean(np.square(xTrain-yTrain))\n",
        "#predicted=(predicted>0.5)\n",
        "#predicted.count()]\n",
        "from sklearn.metrics import accuracy_score, confusion_matrix, precision_recall_fscore_support\n",
        "#cm = confusion_matrix(yTest, predicted) \n",
        "#cm\n",
        "import matplotlib.pyplot as plt\n",
        "import pandas\n",
        "from sklearn.metrics import mean_absolute_error \n",
        "from sklearn.metrics import accuracy_score\n",
        "from sklearn.model_selection import train_test_split\n",
        "from sklearn.linear_model import LogisticRegression\n",
        "import pandas as pd\n",
        "from sklearn import preprocessing \n",
        "#xTrain, xTest, yTrain, yTest = train_test_split(x, y, test_size = 0.3, random_state = 0)\n",
        "linearRegressor = LogisticRegression()\n",
        "#print(x)\n",
        "linearRegressor.fit(xTrain, yTrain)\n",
        "yPrediction = linearRegressor.predict(xTest)\n",
        "#print('Intercept: \\n', linearRegressor.intercept_)\n",
        "#print('Coefficients: \\n', linearRegressor.coef_)\n",
        "#confusion_matrix(yTest,yPrediction)\n",
        "pred=[yPrediction>0.5]\n",
        "np.count_nonzero(pred)\n",
        "#np.mean(np.square(yTest-yPrediction))"
      ],
      "execution_count": 30,
      "outputs": [
        {
          "output_type": "stream",
          "text": [
            "/usr/local/lib/python3.6/dist-packages/sklearn/linear_model/logistic.py:433: FutureWarning: Default solver will be changed to 'lbfgs' in 0.22. Specify a solver to silence this warning.\n",
            "  FutureWarning)\n",
            "/usr/local/lib/python3.6/dist-packages/sklearn/utils/validation.py:761: DataConversionWarning: A column-vector y was passed when a 1d array was expected. Please change the shape of y to (n_samples, ), for example using ravel().\n",
            "  y = column_or_1d(y, warn=True)\n"
          ],
          "name": "stderr"
        },
        {
          "output_type": "execute_result",
          "data": {
            "text/plain": [
              "476"
            ]
          },
          "metadata": {
            "tags": []
          },
          "execution_count": 30
        }
      ]
    },
    {
      "metadata": {
        "id": "13-WFkDroZVE",
        "colab_type": "code",
        "outputId": "6bbec48b-926f-4602-c0b9-8f13a0faea0d",
        "colab": {
          "base_uri": "https://localhost:8080/",
          "height": 34
        }
      },
      "cell_type": "code",
      "source": [
        "#np.count_nonzero(True)\n",
        "import numpy as np\n",
        "yPrediction = model.predict(xTest)\n",
        "#print('Intercept: \\n', linearRegressor.intercept_)\n",
        "#print('Coefficients: \\n', linearRegressor.coef_)\n",
        "#confusion_matrix(yTest,yPrediction)\n",
        "pred=[yPrediction>0.5]\n",
        "np.count_nonzero(pred)\n",
        "#np.count_nonzero([[True,False,True,True]])\n",
        "#np.mean(np.square(yTest-yPrediction))"
      ],
      "execution_count": 23,
      "outputs": [
        {
          "output_type": "execute_result",
          "data": {
            "text/plain": [
              "309"
            ]
          },
          "metadata": {
            "tags": []
          },
          "execution_count": 23
        }
      ]
    }
  ]
}