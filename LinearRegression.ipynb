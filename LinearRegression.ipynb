{
  "nbformat": 4,
  "nbformat_minor": 0,
  "metadata": {
    "colab": {
      "name": "LinearRegression.ipynb",
      "version": "0.3.2",
      "provenance": [],
      "include_colab_link": true
    },
    "kernelspec": {
      "name": "python3",
      "display_name": "Python 3"
    }
  },
  "cells": [
    {
      "cell_type": "markdown",
      "metadata": {
        "id": "view-in-github",
        "colab_type": "text"
      },
      "source": [
        "<a href=\"https://colab.research.google.com/github/santhosh2551991/Perumagalur/blob/master/LinearRegression.ipynb\" target=\"_parent\"><img src=\"https://colab.research.google.com/assets/colab-badge.svg\" alt=\"Open In Colab\"/></a>"
      ]
    },
    {
      "metadata": {
        "id": "G39G-CiaMNCA",
        "colab_type": "code",
        "colab": {
          "base_uri": "https://localhost:8080/",
          "height": 34
        },
        "outputId": "af5debef-2941-4dd5-f4c1-3e506ecbd830"
      },
      "cell_type": "code",
      "source": [
        "import numpy as np\n",
        "import matplotlib.pyplot as plt\n",
        "import pandas\n",
        "from sklearn.metrics import mean_absolute_error \n",
        "from sklearn.metrics import accuracy_score\n",
        "from sklearn.model_selection import train_test_split\n",
        "from sklearn.linear_model import LinearRegression\n",
        "import pandas as pd\n",
        "from sklearn import preprocessing \n",
        "df = pd.read_csv('https://query.data.world/s/2bfnvr5dtdwxvcommjncze5m2rbduw')\n",
        "df['Date']=df.Date.replace(regex=r'-', value='').astype('float64')\n",
        "x = df.Date.values\n",
        "#x=preprocessing.scale(x)\n",
        "#print(x)\n",
        "y = df.Value.values\n",
        "x=np.array(x).reshape(-1,1)\n",
        "y=np.array(y).reshape(-1,1)\n",
        "#y=np.array[:1]\n",
        "xTrain, xTest, yTrain, yTest = train_test_split(x, y, test_size = 0.2, random_state = 10)\n",
        "linearRegressor = LinearRegression()\n",
        "linearRegressor.fit(xTrain, yTrain)\n",
        "yPrediction = linearRegressor.predict(xTrain)"
      ],
      "execution_count": 119,
      "outputs": [
        {
          "output_type": "execute_result",
          "data": {
            "text/plain": [
              "array([18272.56])"
            ]
          },
          "metadata": {
            "tags": []
          },
          "execution_count": 119
        }
      ]
    },
    {
      "metadata": {
        "id": "9ad1etzPyABj",
        "colab_type": "code",
        "colab": {
          "base_uri": "https://localhost:8080/",
          "height": 34
        },
        "outputId": "124ce4f2-64fc-45bc-877a-193044d10aa0"
      },
      "cell_type": "code",
      "source": [
        "multioutput='raw_values'"
      ],
      "execution_count": 122,
      "outputs": [
        {
          "output_type": "stream",
          "text": [
            "Mean squared error: 398637675297645.2\n"
          ],
          "name": "stdout"
        }
      ]
    },
    {
      "metadata": {
        "id": "pbLumO10QRna",
        "colab_type": "code",
        "colab": {
          "base_uri": "https://localhost:8080/",
          "height": 1020
        },
        "outputId": "0d598caf-cf1b-47e4-c2a1-18abfd25aca3"
      },
      "cell_type": "code",
      "source": [
        "import io\n",
        "import pandas\n",
        "from sklearn.metrics import mean_absolute_error \n",
        "from sklearn.metrics import accuracy_score\n",
        "from sklearn.model_selection import train_test_split\n",
        "from sklearn.linear_model import LinearRegression\n",
        "df1 = pd.read_csv(io.BytesIO(uploaded['GOOG (3).csv']))\n",
        "from sklearn.preprocessing import MinMaxScaler\n",
        "scaler = MinMaxScaler()\n",
        "import numpy as np\n",
        "#df1[['Open','Close']] = scaler.fit_transform(df1[['Open','Close']])\n",
        "df2=df1[['Open','Close']]\n",
        "df3=df1[['Volume']]\n",
        "x=df2.iloc[:, 0:2]\n",
        "y=df3.iloc[:,0:1]\n",
        "x=np.array(x)\n",
        "y=np.array(y)\n",
        "xTrain, xTest, yTrain, yTest = train_test_split(x, y, test_size = 0.2, random_state = 2)\n",
        "linearRegressor = LinearRegression()\n",
        "#print(x)\n",
        "linearRegressor.fit(x, y)\n",
        "yPrediction = linearRegressor.predict(xTest)\n",
        "print('Intercept: \\n', regr.intercept_)\n",
        "print('Coefficients: \\n', regr.coef_)\n",
        "print(yPrediction)"
      ],
      "execution_count": 276,
      "outputs": [
        {
          "output_type": "stream",
          "text": [
            "Intercept: \n",
            " 1798.4039776258546\n",
            "Coefficients: \n",
            " [ 345.54008701 -250.14657137]\n",
            "[[1467882.88215662]\n",
            " [1682100.79341469]\n",
            " [1949995.26996461]\n",
            " [1531914.98900687]\n",
            " [2004910.28546686]\n",
            " [1953984.71379134]\n",
            " [2026701.75484154]\n",
            " [1876461.99483378]\n",
            " [1610094.00547686]\n",
            " [1729880.93452928]\n",
            " [1779652.65303931]\n",
            " [2043783.28699956]\n",
            " [1474880.2899083 ]\n",
            " [1671020.82482336]\n",
            " [1281583.98937783]\n",
            " [1753930.16050016]\n",
            " [1963941.50947558]\n",
            " [1887135.75874833]\n",
            " [1569603.02027291]\n",
            " [1850721.97414787]\n",
            " [2263043.38878665]\n",
            " [1735336.78048932]\n",
            " [1719048.132288  ]\n",
            " [1650694.06155986]\n",
            " [1616085.4870678 ]\n",
            " [1587857.70396915]\n",
            " [2026200.0355499 ]\n",
            " [1514444.89179788]\n",
            " [1817633.95077468]\n",
            " [2144750.92566673]\n",
            " [1716242.15666657]\n",
            " [1460929.72478314]\n",
            " [1490609.53026115]\n",
            " [1609304.4391473 ]\n",
            " [1779856.95391438]\n",
            " [1920154.13898143]\n",
            " [1762846.29036646]\n",
            " [1517265.06369089]\n",
            " [2036860.34848593]\n",
            " [1416590.33193459]\n",
            " [1503939.40563439]\n",
            " [2067226.40430373]\n",
            " [1816656.88765802]\n",
            " [1890574.27337602]\n",
            " [1888087.45491899]\n",
            " [1477706.66417237]\n",
            " [1957435.21205935]\n",
            " [1355158.38515702]\n",
            " [1867675.20672596]\n",
            " [1847231.4951777 ]\n",
            " [1740861.04408105]\n",
            " [1595478.86111097]\n",
            " [1808770.04121968]\n",
            " [1619905.45470225]\n",
            " [1630214.48832805]]\n"
          ],
          "name": "stdout"
        }
      ]
    },
    {
      "metadata": {
        "id": "GNgVn5fBVN0L",
        "colab_type": "code",
        "colab": {
          "base_uri": "https://localhost:8080/",
          "height": 119
        },
        "outputId": "529df4ec-0f51-4e42-ee02-15aa9823c349"
      },
      "cell_type": "code",
      "source": [
        "import matplotlib.pyplot as plt\n",
        "import pandas\n",
        "from sklearn.metrics import mean_absolute_error \n",
        "from sklearn.metrics import accuracy_score\n",
        "from sklearn.model_selection import train_test_split\n",
        "from sklearn.linear_model import LinearRegression\n",
        "import pandas as pd\n",
        "from sklearn import preprocessing \n",
        "xTrain, xTest, yTrain, yTest = train_test_split(x, y, test_size = 0.8, random_state = 2)\n",
        "linearRegressor = LinearRegression()\n",
        "#print(x)\n",
        "linearRegressor.fit(x, y)\n",
        "yPrediction = linearRegressor.predict(xTest)\n",
        "print('Intercept: \\n', regr.intercept_)\n",
        "print('Coefficients: \\n', regr.coef_)"
      ],
      "execution_count": 249,
      "outputs": [
        {
          "output_type": "stream",
          "text": [
            "R2 score : 0.47\n",
            "Mean squared error: 237641561559.75\n",
            "Intercept: \n",
            " 1798.4039776258546\n",
            "Coefficients: \n",
            " [ 345.54008701 -250.14657137]\n"
          ],
          "name": "stdout"
        }
      ]
    },
    {
      "metadata": {
        "id": "D620rC4qeLKk",
        "colab_type": "code",
        "colab": {
          "base_uri": "https://localhost:8080/",
          "height": 102
        },
        "outputId": "5b8099bd-b521-433b-9ad7-aeb6135d1b31"
      },
      "cell_type": "code",
      "source": [
        "from pandas import DataFrame\n",
        "from sklearn import linear_model\n",
        "import statsmodels.api as sm\n",
        "\n",
        "Stock_Market = {'Year': [2017,2017,2017,2017,2017,2017,2017,2017,2017,2017,2017,2017,2016,2016,2016,2016,2016,2016,2016,2016,2016,2016,2016,2016],\n",
        "                'Month': [12, 11,10,9,8,7,6,5,4,3,2,1,12,11,10,9,8,7,6,5,4,3,2,1],\n",
        "                'Interest_Rate': [2.75,2.5,2.5,2.5,2.5,2.5,2.5,2.25,2.25,2.25,2,2,2,1.75,1.75,1.75,1.75,1.75,1.75,1.75,1.75,1.75,1.75,1.75],\n",
        "                'Unemployment_Rate': [5.3,5.3,5.3,5.3,5.4,5.6,5.5,5.5,5.5,5.6,5.7,5.9,6,5.9,5.8,6.1,6.2,6.1,6.1,6.1,5.9,6.2,6.2,6.1],\n",
        "                'Stock_Index_Price': [1464,1394,1357,1293,1256,1254,1234,1195,1159,1167,1130,1075,1047,965,943,958,971,949,884,866,876,822,704,719]        \n",
        "                }\n",
        "\n",
        "df = DataFrame(Stock_Market,columns=['Year','Month','Interest_Rate','Unemployment_Rate','Stock_Index_Price'])\n",
        "\n",
        "\n",
        "X = df[['Interest_Rate','Unemployment_Rate']] # here we have 2 variables for multiple regression. If you just want to use one variable for simple linear regression, then use X = df['Interest_Rate'] for example.Alternatively, you may add additional variables within the brackets\n",
        "Y = df['Stock_Index_Price']\n",
        " \n",
        "regr = linear_model.LinearRegression()\n",
        "regr.fit(X, Y)\n",
        "\n",
        "print('Intercept: \\n', regr.intercept_)\n",
        "print('Coefficients: \\n', regr.coef_)\n",
        "\n",
        "\n",
        "New_Interest_Rate = 1.75\n",
        "New_Unemployment_Rate = 5.8\n",
        "print ('Predicted Stock Index Price:', regr.predict([[New_Interest_Rate ,New_Unemployment_Rate]]))\n",
        "\n"
      ],
      "execution_count": 277,
      "outputs": [
        {
          "output_type": "stream",
          "text": [
            "Intercept: \n",
            " 1798.4039776258546\n",
            "Coefficients: \n",
            " [ 345.54008701 -250.14657137]\n",
            "Predicted Stock Index Price: [952.24901595]\n"
          ],
          "name": "stdout"
        }
      ]
    }
  ]
}